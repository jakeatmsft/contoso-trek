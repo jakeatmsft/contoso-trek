{
 "cells": [
  {
   "cell_type": "markdown",
   "metadata": {},
   "source": [
    "# Local Evaluation"
   ]
  },
  {
   "cell_type": "code",
   "execution_count": 2,
   "metadata": {},
   "outputs": [],
   "source": [
    "from promptflow import PFClient\n",
    "\n",
    "pf_client = PFClient()"
   ]
  },
  {
   "cell_type": "code",
   "execution_count": 20,
   "metadata": {},
   "outputs": [
    {
     "name": "stdout",
     "output_type": "stream",
     "text": [
      "2023-12-05 23:12:48 +0000   68825 execution.flow     INFO     Start to run 5 nodes with concurrency level 16.\n",
      "2023-12-05 23:12:48 +0000   68825 execution.flow     INFO     Executing node question_embedding. node run id: 25694976-b188-434f-9b63-060a78a447e7_question_embedding_0\n",
      "2023-12-05 23:12:48 +0000   68825 execution.flow     INFO     Executing node customer_lookup. node run id: 25694976-b188-434f-9b63-060a78a447e7_customer_lookup_0\n",
      "2023-12-05 23:12:48 +0000   68825 execution.flow     INFO     Node question_embedding completes.\n",
      "2023-12-05 23:12:48 +0000   68825 execution.flow     INFO     Executing node retrieve_documentation. node run id: 25694976-b188-434f-9b63-060a78a447e7_retrieve_documentation_0\n",
      "2023-12-05 23:12:48 +0000   68825 execution.flow     INFO     Node customer_lookup completes.\n",
      "2023-12-05 23:12:49 +0000   68825 execution.flow     INFO     Node retrieve_documentation completes.\n",
      "2023-12-05 23:12:49 +0000   68825 execution.flow     INFO     Executing node customer_prompt. node run id: 25694976-b188-434f-9b63-060a78a447e7_customer_prompt_0\n",
      "2023-12-05 23:12:49 +0000   68825 execution.flow     INFO     Node customer_prompt completes.\n",
      "2023-12-05 23:12:49 +0000   68825 execution.flow     INFO     Executing node llm_response. node run id: 25694976-b188-434f-9b63-060a78a447e7_llm_response_0\n",
      "2023-12-05 23:12:49 +0000   68825 execution.flow     WARNING  Output of llm_response is not json serializable, use str to store it.\n",
      "2023-12-05 23:12:49 +0000   68825 execution.flow     INFO     Node llm_response completes.\n"
     ]
    }
   ],
   "source": [
    "question = \"What was in my previous order?\"\n",
    "customerId = \"1\"\n",
    "output = pf_client.test(\n",
    "    \"../\",\n",
    "    inputs={\n",
    "        \"chat_history\": [],\n",
    "        \"question\": question,\n",
    "        \"customerId\": customerId,\n",
    "    },\n",
    ")\n",
    "output[\"answer\"] = \"\".join(list(output[\"answer\"]))"
   ]
  },
  {
   "cell_type": "code",
   "execution_count": 3,
   "metadata": {},
   "outputs": [
    {
     "data": {
      "text/plain": [
       "{'answer': 'Hi Sarah Lee! 🌞 As a valued Platinum member, you have purchased the TrailMaster X4 Tent 🏕️ and the CozyNights Sleeping Bag 🌙 in the past, both perfect for any nature enthusiast! 🌳🌼',\n",
       " 'context': [{'id': '19',\n",
       "   'title': 'Adventure Dining Table',\n",
       "   'content': \"Discover the joy of outdoor adventures with the CampBuddy Adventure Dining Table. This feature-packed camping essential brings both comfort and convenience to your memorable trips. Made from high-quality aluminum, it promises long-lasting performance, weather resistance, and easy maintenance - all key for the great outdoors! It's light, portable, and comes with adjustable height settings to suit various seating arrangements and the spacious surface comfortably accommodates meals, drinks, and other essentials. The sturdy yet lightweight frame holds food, dishes, and utensils with ease. When it's time to pack up, it fold and stows away with no fuss, ready for the next adventure!  Perfect for camping, picnics, barbecues, and beach outings - its versatility shines as brightly as the summer sun! Durable, sturdy and a breeze to set up, the Adventure Dining Table will be a loyal companion on every trip. Embark on your next adventure and make lifetime memories with CampBuddy. As with all good experiences, it'll leave you wanting more! \",\n",
       "   'url': '/products/adventure-dining-table'},\n",
       "  {'id': '16',\n",
       "   'title': 'TrailLite Daypack',\n",
       "   'content': \"Step up your hiking game with HikeMate's TrailLite Daypack. Built for comfort and efficiency, this lightweight and durable backpack offers a spacious main compartment, multiple pockets, and organization-friendly features all in one sleek package. The adjustable shoulder straps and padded back panel ensure optimal comfort during those long exhilarating treks. Course through nature without worry as the daypack's water-resistant fabric protects your essentials from unexpected showers. Plus, never run dry with the integrated hydration system. And did we mention it comes in a plethora of colors and designs? So you can choose one that truly speaks to your outdoorsy soul! Keeping your visibility in mind, we've added reflective accents that light up in low-light conditions. Don't just carry a backpack, adorn a companion that takes you a step ahead in your adventures. Trust the TrailLite Daypack for a hassle-free, enjoyable hiking experience.\",\n",
       "   'url': '/products/traillite-daypack'}]}"
      ]
     },
     "execution_count": 3,
     "metadata": {},
     "output_type": "execute_result"
    }
   ],
   "source": [
    "output"
   ]
  },
  {
   "cell_type": "code",
   "execution_count": 7,
   "metadata": {},
   "outputs": [
    {
     "name": "stdout",
     "output_type": "stream",
     "text": [
      "2023-12-05 22:53:54 +0000   68825 execution.flow     INFO     Start to run 5 nodes with concurrency level 16.\n",
      "2023-12-05 22:53:54 +0000   68825 execution.flow     INFO     Executing node question_embedding. node run id: bd0511b2-16e6-40ee-9a3a-ff60508b9d7b_question_embedding_0\n",
      "2023-12-05 22:53:54 +0000   68825 execution.flow     INFO     Executing node customer_lookup. node run id: bd0511b2-16e6-40ee-9a3a-ff60508b9d7b_customer_lookup_0\n",
      "2023-12-05 22:53:54 +0000   68825 execution.flow     INFO     Node question_embedding completes.\n",
      "2023-12-05 22:53:54 +0000   68825 execution.flow     INFO     Executing node retrieve_documentation. node run id: bd0511b2-16e6-40ee-9a3a-ff60508b9d7b_retrieve_documentation_0\n",
      "2023-12-05 22:53:55 +0000   68825 execution.flow     INFO     Node customer_lookup completes.\n",
      "2023-12-05 22:53:55 +0000   68825 execution.flow     INFO     Node retrieve_documentation completes.\n",
      "2023-12-05 22:53:55 +0000   68825 execution.flow     INFO     Executing node customer_prompt. node run id: bd0511b2-16e6-40ee-9a3a-ff60508b9d7b_customer_prompt_0\n",
      "2023-12-05 22:53:55 +0000   68825 execution.flow     INFO     Node customer_prompt completes.\n",
      "2023-12-05 22:53:55 +0000   68825 execution.flow     INFO     Executing node llm_response. node run id: bd0511b2-16e6-40ee-9a3a-ff60508b9d7b_llm_response_0\n",
      "2023-12-05 22:53:55 +0000   68825 execution.flow     WARNING  Output of llm_response is not json serializable, use str to store it.\n",
      "2023-12-05 22:53:55 +0000   68825 execution.flow     INFO     Node llm_response completes.\n"
     ]
    }
   ],
   "source": [
    "question = \"What is the temperature rating of my sleeping bag?\"\n",
    "customerId = \"2\"\n",
    "output = pf_client.test(\n",
    "    \"../\",\n",
    "    inputs={\n",
    "        \"chat_history\": [],\n",
    "        \"question\": question,\n",
    "        \"customerId\": customerId,\n",
    "    },\n",
    ")\n",
    "output[\"answer\"] = \"\".join(list(output[\"answer\"]))"
   ]
  },
  {
   "cell_type": "code",
   "execution_count": 9,
   "metadata": {},
   "outputs": [
    {
     "name": "stdout",
     "output_type": "stream",
     "text": [
      "2023-12-05 22:55:06 +0000   68825 execution.flow     INFO     Start to run 2 nodes with concurrency level 16.\n",
      "2023-12-05 22:55:06 +0000   68825 execution.flow     INFO     Executing node groundedness_score. node run id: 96d88c61-e9fd-4584-aa34-f34501eb6a32_groundedness_score_0\n",
      "2023-12-05 22:55:07 +0000   68825 execution.flow     INFO     Node groundedness_score completes.\n",
      "2023-12-05 22:55:07 +0000   68825 execution.flow     INFO     Executing node concat_scores. node run id: 96d88c61-e9fd-4584-aa34-f34501eb6a32_concat_scores_0\n",
      "2023-12-05 22:55:07 +0000   68825 execution.flow     INFO     Node concat_scores completes.\n",
      "2023-12-05 22:55:07 +0000   68825 execution.flow     INFO     Start to run 1 nodes with concurrency level 16.\n",
      "2023-12-05 22:55:07 +0000   68825 execution.flow     INFO     Executing node aggregate_variants_results. node run id: 5d26bdd8-be95-4afd-8382-b5b993f29ad6_aggregate_variants_results_reduce\n",
      "2023-12-05 22:55:07 +0000   68825 execution.flow     INFO     Node aggregate_variants_results completes.\n"
     ]
    }
   ],
   "source": [
    "test = pf_client.test(\n",
    "    \"../eval/groundedness\",\n",
    "    inputs={\n",
    "        \"question\": question,\n",
    "        \"context\": str(output[\"context\"]),\n",
    "        \"answer\": output[\"answer\"],\n",
    "    },\n",
    ")"
   ]
  },
  {
   "cell_type": "code",
   "execution_count": 6,
   "metadata": {},
   "outputs": [
    {
     "data": {
      "text/plain": [
       "{'answer': 'Hi Sarah Lee! Based on the information in our relevant documents, your CozyNights Sleeping Bag features a reliable temperature rating suitable for spring, summer, and fall camping! 🏕️🌞🍁  To complement your sleeping bag, you may want to check out our TrailMaster X4 Tent, which features water-resistant construction and a spacious interior perfect for four occupants. ⛺️👨\\u200d👩\\u200d👧\\u200d👦🌧️',\n",
       " 'context': [{'id': '14',\n",
       "   'title': 'MountainDream Sleeping Bag',\n",
       "   'content': \"Meet the MountainDream Sleeping Bag: your new must-have companion for every outdoor adventure. Designed to handle 3-season camping with ease, it comes equipped with a premium synthetic insulation that will keep you cozy even when temperatures fall down to 15°F! Sporting a durable water-resistant nylon shell and soft breathable polyester lining, this bag doesn't sacrifice comfort for toughness. The star of the show is the contoured mummy shape that not only provides optimal heat retention but also cuts down on the weight. A smooth, snag-free YKK zipper with a unique anti-snag design allows for hassle-free operation, while the adjustable hood and full-length zipper baffle work together to ensure you stay warm all night long. Need to bring along some essentials? Not to worry! There's an interior pocket just for that. And when it's time to pack up? Just slip it into the included compression sack for easy storage and transport. Whether you're a backpacking pro or a camping novice, the MountainDream Sleeping Bag is the perfect blend of durability, warmth, and comfort that you've been looking for.\",\n",
       "   'url': '/products/mountaindream-sleeping-bag'},\n",
       "  {'id': '7',\n",
       "   'title': 'CozyNights Sleeping Bag',\n",
       "   'content': \"Embrace the great outdoors in any season with the lightweight CozyNights Sleeping Bag! This durable three-season bag is superbly designed to give hikers, campers, and backpackers comfort and warmth during spring, summer, and fall. With a compact design that folds down into a convenient stuff sack, you can whisk it away on any adventure without a hitch. The sleeping bag takes comfort seriously, featuring a handy hood, ample room and padding, and a reliable temperature rating. Crafted from high-quality polyester, it ensures long-lasting use and can even be zipped together with another bag for shared comfort. Whether you're gazing at stars or catching a quick nap between trails, the CozyNights Sleeping Bag makes it a treat. Don't just sleep— dream with CozyNights.\",\n",
       "   'url': '/products/cozynights-sleeping-bag'}]}"
      ]
     },
     "execution_count": 6,
     "metadata": {},
     "output_type": "execute_result"
    }
   ],
   "source": [
    "output"
   ]
  },
  {
   "cell_type": "code",
   "execution_count": 10,
   "metadata": {},
   "outputs": [
    {
     "data": {
      "text/plain": [
       "{'gpt_groundedness': 3.0}"
      ]
     },
     "execution_count": 10,
     "metadata": {},
     "output_type": "execute_result"
    }
   ],
   "source": [
    "test"
   ]
  },
  {
   "cell_type": "markdown",
   "metadata": {},
   "source": [
    "## Eval Flow"
   ]
  },
  {
   "cell_type": "code",
   "execution_count": 11,
   "metadata": {},
   "outputs": [
    {
     "name": "stdout",
     "output_type": "stream",
     "text": [
      "2023-12-05 22:57:43 +0000   68825 execution.flow     INFO     Start to run 8 nodes with concurrency level 16.\n",
      "2023-12-05 22:57:43 +0000   68825 execution.flow     INFO     Executing node coherence_score. node run id: ea104a0d-f269-4013-99d3-2625691784ef_coherence_score_0\n",
      "2023-12-05 22:57:43 +0000   68825 execution.flow     INFO     Executing node fluency_score. node run id: ea104a0d-f269-4013-99d3-2625691784ef_fluency_score_0\n",
      "2023-12-05 22:57:43 +0000   68825 execution.flow     INFO     Executing node groundedness_score. node run id: ea104a0d-f269-4013-99d3-2625691784ef_groundedness_score_0\n",
      "2023-12-05 22:57:43 +0000   68825 execution.flow     INFO     Executing node relevance_score. node run id: ea104a0d-f269-4013-99d3-2625691784ef_relevance_score_0\n",
      "2023-12-05 22:57:43 +0000   68825 execution.flow     INFO     Node coherence_score completes.\n",
      "2023-12-05 22:57:43 +0000   68825 execution.flow     INFO     Executing node coherence_concat_scores. node run id: ea104a0d-f269-4013-99d3-2625691784ef_coherence_concat_scores_0\n",
      "2023-12-05 22:57:43 +0000   68825 execution.flow     INFO     Node coherence_concat_scores completes.\n",
      "2023-12-05 22:57:44 +0000   68825 execution.flow     INFO     Node groundedness_score completes.\n",
      "2023-12-05 22:57:44 +0000   68825 execution.flow     INFO     Executing node groundedness_concat_scores. node run id: ea104a0d-f269-4013-99d3-2625691784ef_groundedness_concat_scores_0\n",
      "2023-12-05 22:57:44 +0000   68825 execution.flow     INFO     Node groundedness_concat_scores completes.\n",
      "2023-12-05 22:57:45 +0000   68825 execution.flow     INFO     Node fluency_score completes.\n",
      "2023-12-05 22:57:45 +0000   68825 execution.flow     INFO     Executing node fluency_concat_scores. node run id: ea104a0d-f269-4013-99d3-2625691784ef_fluency_concat_scores_0\n",
      "2023-12-05 22:57:45 +0000   68825 execution.flow     INFO     Node fluency_concat_scores completes.\n",
      "2023-12-05 22:57:45 +0000   68825 execution.flow     INFO     Node relevance_score completes.\n",
      "2023-12-05 22:57:45 +0000   68825 execution.flow     INFO     Executing node relevance_concat_scores. node run id: ea104a0d-f269-4013-99d3-2625691784ef_relevance_concat_scores_0\n",
      "2023-12-05 22:57:45 +0000   68825 execution.flow     INFO     Node relevance_concat_scores completes.\n",
      "2023-12-05 22:57:45 +0000   68825 execution.flow     INFO     Start to run 4 nodes with concurrency level 16.\n",
      "2023-12-05 22:57:45 +0000   68825 execution.flow     INFO     Executing node coherence_aggregate_variants_results. node run id: 2a3c3288-a5ce-4e4f-8965-cb278ce11a3b_coherence_aggregate_variants_results_reduce\n",
      "2023-12-05 22:57:45 +0000   68825 execution.flow     INFO     Executing node fluency_aggregate_variants_results. node run id: 2a3c3288-a5ce-4e4f-8965-cb278ce11a3b_fluency_aggregate_variants_results_reduce\n",
      "2023-12-05 22:57:45 +0000   68825 execution.flow     INFO     Executing node groundedness_aggregate_variants_results. node run id: 2a3c3288-a5ce-4e4f-8965-cb278ce11a3b_groundedness_aggregate_variants_results_reduce\n",
      "2023-12-05 22:57:46 +0000   68825 execution.flow     INFO     Executing node relevance_aggregate_variants_results. node run id: 2a3c3288-a5ce-4e4f-8965-cb278ce11a3b_relevance_aggregate_variants_results_reduce\n",
      "2023-12-05 22:57:46 +0000   68825 execution.flow     INFO     Node coherence_aggregate_variants_results completes.\n",
      "2023-12-05 22:57:46 +0000   68825 execution.flow     INFO     Node fluency_aggregate_variants_results completes.\n",
      "2023-12-05 22:57:46 +0000   68825 execution.flow     INFO     Node groundedness_aggregate_variants_results completes.\n",
      "2023-12-05 22:57:46 +0000   68825 execution.flow     INFO     Node relevance_aggregate_variants_results completes.\n"
     ]
    }
   ],
   "source": [
    "test_multi = pf_client.test(\n",
    "    \"../eval/multi_flow\",\n",
    "    inputs={\n",
    "        \"question\": question,\n",
    "        \"context\": str(output[\"context\"]),\n",
    "        \"answer\": output[\"answer\"],\n",
    "    },\n",
    ")"
   ]
  },
  {
   "cell_type": "code",
   "execution_count": 12,
   "metadata": {},
   "outputs": [
    {
     "data": {
      "text/plain": [
       "{'gpt_coherence': 4.0,\n",
       " 'gpt_fluency': 5.0,\n",
       " 'gpt_groundedness': 3.0,\n",
       " 'gpt_relevance': 1.0}"
      ]
     },
     "execution_count": 12,
     "metadata": {},
     "output_type": "execute_result"
    }
   ],
   "source": [
    "test_multi"
   ]
  },
  {
   "cell_type": "code",
   "execution_count": 21,
   "metadata": {},
   "outputs": [
    {
     "data": {
      "text/plain": [
       "<promptflow._sdk._pf_client.PFClient at 0x7f9de7a139d0>"
      ]
     },
     "execution_count": 21,
     "metadata": {},
     "output_type": "execute_result"
    }
   ],
   "source": [
    "pf_client"
   ]
  },
  {
   "cell_type": "code",
   "execution_count": 22,
   "metadata": {},
   "outputs": [],
   "source": [
    "runtime = \"contoso-retail-runtime\"\n",
    "# load flow\n",
    "flow = \"../\"\n",
    "data = \"../data/testdata.jsonl\""
   ]
  },
  {
   "cell_type": "code",
   "execution_count": 23,
   "metadata": {},
   "outputs": [
    {
     "name": "stdout",
     "output_type": "stream",
     "text": [
      "2023_12_05_231355_base_run\n"
     ]
    }
   ],
   "source": [
    "# get current time stamp\n",
    "import datetime\n",
    "now = datetime.datetime.now()\n",
    "timestamp = now.strftime(\"%Y_%m_%d_%H%M%S\")\n",
    "run_name = timestamp+\"_base_run\"\n",
    "print(run_name)"
   ]
  },
  {
   "cell_type": "code",
   "execution_count": 26,
   "metadata": {},
   "outputs": [
    {
     "ename": "RunExistsError",
     "evalue": "Run '2023_12_05_231355_base_run' already exists.",
     "output_type": "error",
     "traceback": [
      "\u001b[0;31m---------------------------------------------------------------------------\u001b[0m",
      "\u001b[0;31mIntegrityError\u001b[0m                            Traceback (most recent call last)",
      "File \u001b[0;32m/usr/local/lib/python3.10/site-packages/sqlalchemy/engine/base.py:1910\u001b[0m, in \u001b[0;36mConnection._execute_context\u001b[0;34m(self, dialect, constructor, statement, parameters, execution_options, *args, **kw)\u001b[0m\n\u001b[1;32m   1909\u001b[0m     \u001b[39mif\u001b[39;00m \u001b[39mnot\u001b[39;00m evt_handled:\n\u001b[0;32m-> 1910\u001b[0m         \u001b[39mself\u001b[39;49m\u001b[39m.\u001b[39;49mdialect\u001b[39m.\u001b[39;49mdo_execute(\n\u001b[1;32m   1911\u001b[0m             cursor, statement, parameters, context\n\u001b[1;32m   1912\u001b[0m         )\n\u001b[1;32m   1914\u001b[0m \u001b[39mif\u001b[39;00m \u001b[39mself\u001b[39m\u001b[39m.\u001b[39m_has_events \u001b[39mor\u001b[39;00m \u001b[39mself\u001b[39m\u001b[39m.\u001b[39mengine\u001b[39m.\u001b[39m_has_events:\n",
      "File \u001b[0;32m/usr/local/lib/python3.10/site-packages/sqlalchemy/engine/default.py:736\u001b[0m, in \u001b[0;36mDefaultDialect.do_execute\u001b[0;34m(self, cursor, statement, parameters, context)\u001b[0m\n\u001b[1;32m    735\u001b[0m \u001b[39mdef\u001b[39;00m \u001b[39mdo_execute\u001b[39m(\u001b[39mself\u001b[39m, cursor, statement, parameters, context\u001b[39m=\u001b[39m\u001b[39mNone\u001b[39;00m):\n\u001b[0;32m--> 736\u001b[0m     cursor\u001b[39m.\u001b[39;49mexecute(statement, parameters)\n",
      "\u001b[0;31mIntegrityError\u001b[0m: UNIQUE constraint failed: run_info.name",
      "\nThe above exception was the direct cause of the following exception:\n",
      "\u001b[0;31mIntegrityError\u001b[0m                            Traceback (most recent call last)",
      "File \u001b[0;32m~/.local/lib/python3.10/site-packages/promptflow/_sdk/_orm/run_info.py:61\u001b[0m, in \u001b[0;36mRunInfo.dump\u001b[0;34m(self)\u001b[0m\n\u001b[1;32m     60\u001b[0m     session\u001b[39m.\u001b[39madd(\u001b[39mself\u001b[39m)\n\u001b[0;32m---> 61\u001b[0m     session\u001b[39m.\u001b[39;49mcommit()\n\u001b[1;32m     62\u001b[0m \u001b[39mexcept\u001b[39;00m IntegrityError \u001b[39mas\u001b[39;00m e:\n\u001b[1;32m     63\u001b[0m     \u001b[39m# catch \"sqlite3.IntegrityError: UNIQUE constraint failed: run_info.name\" to raise RunExistsError\u001b[39;00m\n\u001b[1;32m     64\u001b[0m     \u001b[39m# otherwise raise the original error\u001b[39;00m\n",
      "File \u001b[0;32m/usr/local/lib/python3.10/site-packages/sqlalchemy/orm/session.py:1454\u001b[0m, in \u001b[0;36mSession.commit\u001b[0;34m(self)\u001b[0m\n\u001b[1;32m   1452\u001b[0m         \u001b[39mraise\u001b[39;00m sa_exc\u001b[39m.\u001b[39mInvalidRequestError(\u001b[39m\"\u001b[39m\u001b[39mNo transaction is begun.\u001b[39m\u001b[39m\"\u001b[39m)\n\u001b[0;32m-> 1454\u001b[0m \u001b[39mself\u001b[39;49m\u001b[39m.\u001b[39;49m_transaction\u001b[39m.\u001b[39;49mcommit(_to_root\u001b[39m=\u001b[39;49m\u001b[39mself\u001b[39;49m\u001b[39m.\u001b[39;49mfuture)\n",
      "File \u001b[0;32m/usr/local/lib/python3.10/site-packages/sqlalchemy/orm/session.py:832\u001b[0m, in \u001b[0;36mSessionTransaction.commit\u001b[0;34m(self, _to_root)\u001b[0m\n\u001b[1;32m    831\u001b[0m \u001b[39mif\u001b[39;00m \u001b[39mself\u001b[39m\u001b[39m.\u001b[39m_state \u001b[39mis\u001b[39;00m \u001b[39mnot\u001b[39;00m PREPARED:\n\u001b[0;32m--> 832\u001b[0m     \u001b[39mself\u001b[39;49m\u001b[39m.\u001b[39;49m_prepare_impl()\n\u001b[1;32m    834\u001b[0m \u001b[39mif\u001b[39;00m \u001b[39mself\u001b[39m\u001b[39m.\u001b[39m_parent \u001b[39mis\u001b[39;00m \u001b[39mNone\u001b[39;00m \u001b[39mor\u001b[39;00m \u001b[39mself\u001b[39m\u001b[39m.\u001b[39mnested:\n",
      "File \u001b[0;32m/usr/local/lib/python3.10/site-packages/sqlalchemy/orm/session.py:811\u001b[0m, in \u001b[0;36mSessionTransaction._prepare_impl\u001b[0;34m(self)\u001b[0m\n\u001b[1;32m    810\u001b[0m         \u001b[39mbreak\u001b[39;00m\n\u001b[0;32m--> 811\u001b[0m     \u001b[39mself\u001b[39;49m\u001b[39m.\u001b[39;49msession\u001b[39m.\u001b[39;49mflush()\n\u001b[1;32m    812\u001b[0m \u001b[39melse\u001b[39;00m:\n",
      "File \u001b[0;32m/usr/local/lib/python3.10/site-packages/sqlalchemy/orm/session.py:3449\u001b[0m, in \u001b[0;36mSession.flush\u001b[0;34m(self, objects)\u001b[0m\n\u001b[1;32m   3448\u001b[0m     \u001b[39mself\u001b[39m\u001b[39m.\u001b[39m_flushing \u001b[39m=\u001b[39m \u001b[39mTrue\u001b[39;00m\n\u001b[0;32m-> 3449\u001b[0m     \u001b[39mself\u001b[39;49m\u001b[39m.\u001b[39;49m_flush(objects)\n\u001b[1;32m   3450\u001b[0m \u001b[39mfinally\u001b[39;00m:\n",
      "File \u001b[0;32m/usr/local/lib/python3.10/site-packages/sqlalchemy/orm/session.py:3588\u001b[0m, in \u001b[0;36mSession._flush\u001b[0;34m(self, objects)\u001b[0m\n\u001b[1;32m   3587\u001b[0m \u001b[39mexcept\u001b[39;00m:\n\u001b[0;32m-> 3588\u001b[0m     \u001b[39mwith\u001b[39;00m util\u001b[39m.\u001b[39msafe_reraise():\n\u001b[1;32m   3589\u001b[0m         transaction\u001b[39m.\u001b[39mrollback(_capture_exception\u001b[39m=\u001b[39m\u001b[39mTrue\u001b[39;00m)\n",
      "File \u001b[0;32m/usr/local/lib/python3.10/site-packages/sqlalchemy/util/langhelpers.py:70\u001b[0m, in \u001b[0;36msafe_reraise.__exit__\u001b[0;34m(self, type_, value, traceback)\u001b[0m\n\u001b[1;32m     69\u001b[0m     \u001b[39mif\u001b[39;00m \u001b[39mnot\u001b[39;00m \u001b[39mself\u001b[39m\u001b[39m.\u001b[39mwarn_only:\n\u001b[0;32m---> 70\u001b[0m         compat\u001b[39m.\u001b[39;49mraise_(\n\u001b[1;32m     71\u001b[0m             exc_value,\n\u001b[1;32m     72\u001b[0m             with_traceback\u001b[39m=\u001b[39;49mexc_tb,\n\u001b[1;32m     73\u001b[0m         )\n\u001b[1;32m     74\u001b[0m \u001b[39melse\u001b[39;00m:\n",
      "File \u001b[0;32m/usr/local/lib/python3.10/site-packages/sqlalchemy/util/compat.py:211\u001b[0m, in \u001b[0;36mraise_\u001b[0;34m(***failed resolving arguments***)\u001b[0m\n\u001b[1;32m    210\u001b[0m \u001b[39mtry\u001b[39;00m:\n\u001b[0;32m--> 211\u001b[0m     \u001b[39mraise\u001b[39;00m exception\n\u001b[1;32m    212\u001b[0m \u001b[39mfinally\u001b[39;00m:\n\u001b[1;32m    213\u001b[0m     \u001b[39m# credit to\u001b[39;00m\n\u001b[1;32m    214\u001b[0m     \u001b[39m# https://cosmicpercolator.com/2016/01/13/exception-leaks-in-python-2-and-3/\u001b[39;00m\n\u001b[1;32m    215\u001b[0m     \u001b[39m# as the __traceback__ object creates a cycle\u001b[39;00m\n",
      "File \u001b[0;32m/usr/local/lib/python3.10/site-packages/sqlalchemy/orm/session.py:3549\u001b[0m, in \u001b[0;36mSession._flush\u001b[0;34m(self, objects)\u001b[0m\n\u001b[1;32m   3548\u001b[0m \u001b[39mtry\u001b[39;00m:\n\u001b[0;32m-> 3549\u001b[0m     flush_context\u001b[39m.\u001b[39;49mexecute()\n\u001b[1;32m   3550\u001b[0m \u001b[39mfinally\u001b[39;00m:\n",
      "File \u001b[0;32m/usr/local/lib/python3.10/site-packages/sqlalchemy/orm/unitofwork.py:456\u001b[0m, in \u001b[0;36mUOWTransaction.execute\u001b[0;34m(self)\u001b[0m\n\u001b[1;32m    455\u001b[0m \u001b[39mfor\u001b[39;00m rec \u001b[39min\u001b[39;00m topological\u001b[39m.\u001b[39msort(\u001b[39mself\u001b[39m\u001b[39m.\u001b[39mdependencies, postsort_actions):\n\u001b[0;32m--> 456\u001b[0m     rec\u001b[39m.\u001b[39;49mexecute(\u001b[39mself\u001b[39;49m)\n",
      "File \u001b[0;32m/usr/local/lib/python3.10/site-packages/sqlalchemy/orm/unitofwork.py:630\u001b[0m, in \u001b[0;36mSaveUpdateAll.execute\u001b[0;34m(self, uow)\u001b[0m\n\u001b[1;32m    628\u001b[0m \u001b[39m@util\u001b[39m\u001b[39m.\u001b[39mpreload_module(\u001b[39m\"\u001b[39m\u001b[39msqlalchemy.orm.persistence\u001b[39m\u001b[39m\"\u001b[39m)\n\u001b[1;32m    629\u001b[0m \u001b[39mdef\u001b[39;00m \u001b[39mexecute\u001b[39m(\u001b[39mself\u001b[39m, uow):\n\u001b[0;32m--> 630\u001b[0m     util\u001b[39m.\u001b[39;49mpreloaded\u001b[39m.\u001b[39;49morm_persistence\u001b[39m.\u001b[39;49msave_obj(\n\u001b[1;32m    631\u001b[0m         \u001b[39mself\u001b[39;49m\u001b[39m.\u001b[39;49mmapper,\n\u001b[1;32m    632\u001b[0m         uow\u001b[39m.\u001b[39;49mstates_for_mapper_hierarchy(\u001b[39mself\u001b[39;49m\u001b[39m.\u001b[39;49mmapper, \u001b[39mFalse\u001b[39;49;00m, \u001b[39mFalse\u001b[39;49;00m),\n\u001b[1;32m    633\u001b[0m         uow,\n\u001b[1;32m    634\u001b[0m     )\n",
      "File \u001b[0;32m/usr/local/lib/python3.10/site-packages/sqlalchemy/orm/persistence.py:245\u001b[0m, in \u001b[0;36msave_obj\u001b[0;34m(base_mapper, states, uowtransaction, single)\u001b[0m\n\u001b[1;32m    237\u001b[0m     _emit_update_statements(\n\u001b[1;32m    238\u001b[0m         base_mapper,\n\u001b[1;32m    239\u001b[0m         uowtransaction,\n\u001b[0;32m   (...)\u001b[0m\n\u001b[1;32m    242\u001b[0m         update,\n\u001b[1;32m    243\u001b[0m     )\n\u001b[0;32m--> 245\u001b[0m     _emit_insert_statements(\n\u001b[1;32m    246\u001b[0m         base_mapper,\n\u001b[1;32m    247\u001b[0m         uowtransaction,\n\u001b[1;32m    248\u001b[0m         mapper,\n\u001b[1;32m    249\u001b[0m         table,\n\u001b[1;32m    250\u001b[0m         insert,\n\u001b[1;32m    251\u001b[0m     )\n\u001b[1;32m    253\u001b[0m _finalize_insert_update_commands(\n\u001b[1;32m    254\u001b[0m     base_mapper,\n\u001b[1;32m    255\u001b[0m     uowtransaction,\n\u001b[0;32m   (...)\u001b[0m\n\u001b[1;32m    271\u001b[0m     ),\n\u001b[1;32m    272\u001b[0m )\n",
      "File \u001b[0;32m/usr/local/lib/python3.10/site-packages/sqlalchemy/orm/persistence.py:1097\u001b[0m, in \u001b[0;36m_emit_insert_statements\u001b[0;34m(base_mapper, uowtransaction, mapper, table, insert, bookkeeping)\u001b[0m\n\u001b[1;32m   1095\u001b[0m multiparams \u001b[39m=\u001b[39m [rec[\u001b[39m2\u001b[39m] \u001b[39mfor\u001b[39;00m rec \u001b[39min\u001b[39;00m records]\n\u001b[0;32m-> 1097\u001b[0m c \u001b[39m=\u001b[39m connection\u001b[39m.\u001b[39;49m_execute_20(\n\u001b[1;32m   1098\u001b[0m     statement, multiparams, execution_options\u001b[39m=\u001b[39;49mexecution_options\n\u001b[1;32m   1099\u001b[0m )\n\u001b[1;32m   1101\u001b[0m \u001b[39mif\u001b[39;00m bookkeeping:\n",
      "File \u001b[0;32m/usr/local/lib/python3.10/site-packages/sqlalchemy/engine/base.py:1710\u001b[0m, in \u001b[0;36mConnection._execute_20\u001b[0;34m(self, statement, parameters, execution_options)\u001b[0m\n\u001b[1;32m   1709\u001b[0m \u001b[39melse\u001b[39;00m:\n\u001b[0;32m-> 1710\u001b[0m     \u001b[39mreturn\u001b[39;00m meth(\u001b[39mself\u001b[39;49m, args_10style, kwargs_10style, execution_options)\n",
      "File \u001b[0;32m/usr/local/lib/python3.10/site-packages/sqlalchemy/sql/elements.py:334\u001b[0m, in \u001b[0;36mClauseElement._execute_on_connection\u001b[0;34m(self, connection, multiparams, params, execution_options, _force)\u001b[0m\n\u001b[1;32m    333\u001b[0m \u001b[39mif\u001b[39;00m _force \u001b[39mor\u001b[39;00m \u001b[39mself\u001b[39m\u001b[39m.\u001b[39msupports_execution:\n\u001b[0;32m--> 334\u001b[0m     \u001b[39mreturn\u001b[39;00m connection\u001b[39m.\u001b[39;49m_execute_clauseelement(\n\u001b[1;32m    335\u001b[0m         \u001b[39mself\u001b[39;49m, multiparams, params, execution_options\n\u001b[1;32m    336\u001b[0m     )\n\u001b[1;32m    337\u001b[0m \u001b[39melse\u001b[39;00m:\n",
      "File \u001b[0;32m/usr/local/lib/python3.10/site-packages/sqlalchemy/engine/base.py:1577\u001b[0m, in \u001b[0;36mConnection._execute_clauseelement\u001b[0;34m(self, elem, multiparams, params, execution_options)\u001b[0m\n\u001b[1;32m   1569\u001b[0m compiled_sql, extracted_params, cache_hit \u001b[39m=\u001b[39m elem\u001b[39m.\u001b[39m_compile_w_cache(\n\u001b[1;32m   1570\u001b[0m     dialect\u001b[39m=\u001b[39mdialect,\n\u001b[1;32m   1571\u001b[0m     compiled_cache\u001b[39m=\u001b[39mcompiled_cache,\n\u001b[0;32m   (...)\u001b[0m\n\u001b[1;32m   1575\u001b[0m     linting\u001b[39m=\u001b[39m\u001b[39mself\u001b[39m\u001b[39m.\u001b[39mdialect\u001b[39m.\u001b[39mcompiler_linting \u001b[39m|\u001b[39m compiler\u001b[39m.\u001b[39mWARN_LINTING,\n\u001b[1;32m   1576\u001b[0m )\n\u001b[0;32m-> 1577\u001b[0m ret \u001b[39m=\u001b[39m \u001b[39mself\u001b[39;49m\u001b[39m.\u001b[39;49m_execute_context(\n\u001b[1;32m   1578\u001b[0m     dialect,\n\u001b[1;32m   1579\u001b[0m     dialect\u001b[39m.\u001b[39;49mexecution_ctx_cls\u001b[39m.\u001b[39;49m_init_compiled,\n\u001b[1;32m   1580\u001b[0m     compiled_sql,\n\u001b[1;32m   1581\u001b[0m     distilled_params,\n\u001b[1;32m   1582\u001b[0m     execution_options,\n\u001b[1;32m   1583\u001b[0m     compiled_sql,\n\u001b[1;32m   1584\u001b[0m     distilled_params,\n\u001b[1;32m   1585\u001b[0m     elem,\n\u001b[1;32m   1586\u001b[0m     extracted_params,\n\u001b[1;32m   1587\u001b[0m     cache_hit\u001b[39m=\u001b[39;49mcache_hit,\n\u001b[1;32m   1588\u001b[0m )\n\u001b[1;32m   1589\u001b[0m \u001b[39mif\u001b[39;00m has_events:\n",
      "File \u001b[0;32m/usr/local/lib/python3.10/site-packages/sqlalchemy/engine/base.py:1953\u001b[0m, in \u001b[0;36mConnection._execute_context\u001b[0;34m(self, dialect, constructor, statement, parameters, execution_options, *args, **kw)\u001b[0m\n\u001b[1;32m   1952\u001b[0m \u001b[39mexcept\u001b[39;00m \u001b[39mBaseException\u001b[39;00m \u001b[39mas\u001b[39;00m e:\n\u001b[0;32m-> 1953\u001b[0m     \u001b[39mself\u001b[39;49m\u001b[39m.\u001b[39;49m_handle_dbapi_exception(\n\u001b[1;32m   1954\u001b[0m         e, statement, parameters, cursor, context\n\u001b[1;32m   1955\u001b[0m     )\n\u001b[1;32m   1957\u001b[0m \u001b[39mreturn\u001b[39;00m result\n",
      "File \u001b[0;32m/usr/local/lib/python3.10/site-packages/sqlalchemy/engine/base.py:2134\u001b[0m, in \u001b[0;36mConnection._handle_dbapi_exception\u001b[0;34m(self, e, statement, parameters, cursor, context)\u001b[0m\n\u001b[1;32m   2133\u001b[0m \u001b[39melif\u001b[39;00m should_wrap:\n\u001b[0;32m-> 2134\u001b[0m     util\u001b[39m.\u001b[39;49mraise_(\n\u001b[1;32m   2135\u001b[0m         sqlalchemy_exception, with_traceback\u001b[39m=\u001b[39;49mexc_info[\u001b[39m2\u001b[39;49m], from_\u001b[39m=\u001b[39;49me\n\u001b[1;32m   2136\u001b[0m     )\n\u001b[1;32m   2137\u001b[0m \u001b[39melse\u001b[39;00m:\n",
      "File \u001b[0;32m/usr/local/lib/python3.10/site-packages/sqlalchemy/util/compat.py:211\u001b[0m, in \u001b[0;36mraise_\u001b[0;34m(***failed resolving arguments***)\u001b[0m\n\u001b[1;32m    210\u001b[0m \u001b[39mtry\u001b[39;00m:\n\u001b[0;32m--> 211\u001b[0m     \u001b[39mraise\u001b[39;00m exception\n\u001b[1;32m    212\u001b[0m \u001b[39mfinally\u001b[39;00m:\n\u001b[1;32m    213\u001b[0m     \u001b[39m# credit to\u001b[39;00m\n\u001b[1;32m    214\u001b[0m     \u001b[39m# https://cosmicpercolator.com/2016/01/13/exception-leaks-in-python-2-and-3/\u001b[39;00m\n\u001b[1;32m    215\u001b[0m     \u001b[39m# as the __traceback__ object creates a cycle\u001b[39;00m\n",
      "File \u001b[0;32m/usr/local/lib/python3.10/site-packages/sqlalchemy/engine/base.py:1910\u001b[0m, in \u001b[0;36mConnection._execute_context\u001b[0;34m(self, dialect, constructor, statement, parameters, execution_options, *args, **kw)\u001b[0m\n\u001b[1;32m   1909\u001b[0m     \u001b[39mif\u001b[39;00m \u001b[39mnot\u001b[39;00m evt_handled:\n\u001b[0;32m-> 1910\u001b[0m         \u001b[39mself\u001b[39;49m\u001b[39m.\u001b[39;49mdialect\u001b[39m.\u001b[39;49mdo_execute(\n\u001b[1;32m   1911\u001b[0m             cursor, statement, parameters, context\n\u001b[1;32m   1912\u001b[0m         )\n\u001b[1;32m   1914\u001b[0m \u001b[39mif\u001b[39;00m \u001b[39mself\u001b[39m\u001b[39m.\u001b[39m_has_events \u001b[39mor\u001b[39;00m \u001b[39mself\u001b[39m\u001b[39m.\u001b[39mengine\u001b[39m.\u001b[39m_has_events:\n",
      "File \u001b[0;32m/usr/local/lib/python3.10/site-packages/sqlalchemy/engine/default.py:736\u001b[0m, in \u001b[0;36mDefaultDialect.do_execute\u001b[0;34m(self, cursor, statement, parameters, context)\u001b[0m\n\u001b[1;32m    735\u001b[0m \u001b[39mdef\u001b[39;00m \u001b[39mdo_execute\u001b[39m(\u001b[39mself\u001b[39m, cursor, statement, parameters, context\u001b[39m=\u001b[39m\u001b[39mNone\u001b[39;00m):\n\u001b[0;32m--> 736\u001b[0m     cursor\u001b[39m.\u001b[39;49mexecute(statement, parameters)\n",
      "\u001b[0;31mIntegrityError\u001b[0m: (sqlite3.IntegrityError) UNIQUE constraint failed: run_info.name\n[SQL: INSERT INTO run_info (name, type, created_on, status, display_name, description, tags, properties, archived, start_time, end_time, data) VALUES (?, ?, ?, ?, ?, ?, ?, ?, ?, ?, ?, ?)]\n[parameters: ('2023_12_05_231355_base_run', None, '2023-12-05T23:15:00.255027', 'NotStarted', '2023_12_05_231355_base_run', None, None, '{\"flow_path\": \"/var/lib/azureml/share/jacwang-9660-5e1899f1-60e7-457f-b5de-40a0a1876d2e/Users/jacwang/promptflow/contoso-trek\", \"output_path\": \"/home/vscode/.promptflow/.runs/2023_12_05_231355_base_run\"}', 0, None, None, '/var/lib/azureml/share/jacwang-9660-5e1899f1-60e7-457f-b5de-40a0a1876d2e/Users/jacwang/promptflow/contoso-trek/data/testdata.jsonl')]\n(Background on this error at: https://sqlalche.me/e/14/gkpj)",
      "\nDuring handling of the above exception, another exception occurred:\n",
      "\u001b[0;31mRunExistsError\u001b[0m                            Traceback (most recent call last)",
      "File \u001b[0;32m~/.local/lib/python3.10/site-packages/promptflow/_sdk/operations/_run_operations.py:95\u001b[0m, in \u001b[0;36mcreate_or_update\u001b[0;34m(self, run, **kwargs)\u001b[0m\n\u001b[1;32m     94\u001b[0m stream \u001b[39m=\u001b[39m kwargs\u001b[39m.\u001b[39mpop(\u001b[39m\"\u001b[39m\u001b[39mstream\u001b[39m\u001b[39m\"\u001b[39m, \u001b[39mFalse\u001b[39;00m)\n\u001b[0;32m---> 95\u001b[0m \u001b[39mtry\u001b[39;00m:\n\u001b[1;32m     96\u001b[0m     \u001b[39mfrom\u001b[39;00m \u001b[39mpromptflow\u001b[39;00m\u001b[39m.\u001b[39;00m\u001b[39m_sdk\u001b[39;00m\u001b[39m.\u001b[39;00m\u001b[39m_submitter\u001b[39;00m \u001b[39mimport\u001b[39;00m RunSubmitter\n",
      "File \u001b[0;32m~/.local/lib/python3.10/site-packages/promptflow/_sdk/operations/_run_submitter.py:249\u001b[0m, in \u001b[0;36mRunSubmitter.submit\u001b[0;34m(self, run, stream, **kwargs)\u001b[0m\n\u001b[1;32m    248\u001b[0m \u001b[39mdef\u001b[39;00m \u001b[39msubmit\u001b[39m(\u001b[39mself\u001b[39m, run: Run, stream\u001b[39m=\u001b[39m\u001b[39mFalse\u001b[39;00m, \u001b[39m*\u001b[39m\u001b[39m*\u001b[39mkwargs):\n\u001b[0;32m--> 249\u001b[0m     \u001b[39mself\u001b[39;49m\u001b[39m.\u001b[39;49m_run_bulk(run\u001b[39m=\u001b[39;49mrun, stream\u001b[39m=\u001b[39;49mstream, \u001b[39m*\u001b[39;49m\u001b[39m*\u001b[39;49mkwargs)\n\u001b[1;32m    250\u001b[0m     \u001b[39mreturn\u001b[39;00m \u001b[39mself\u001b[39m\u001b[39m.\u001b[39mrun_operations\u001b[39m.\u001b[39mget(name\u001b[39m=\u001b[39mrun\u001b[39m.\u001b[39mname)\n",
      "File \u001b[0;32m~/.local/lib/python3.10/site-packages/promptflow/_sdk/operations/_run_submitter.py:277\u001b[0m, in \u001b[0;36mRunSubmitter._run_bulk\u001b[0;34m(self, run, stream, **kwargs)\u001b[0m\n\u001b[1;32m    276\u001b[0m \u001b[39mwith\u001b[39;00m local_storage\u001b[39m.\u001b[39mlogger:\n\u001b[0;32m--> 277\u001b[0m     \u001b[39mself\u001b[39;49m\u001b[39m.\u001b[39;49m_submit_bulk_run(flow\u001b[39m=\u001b[39;49mflow, run\u001b[39m=\u001b[39;49mrun, local_storage\u001b[39m=\u001b[39;49mlocal_storage)\n",
      "File \u001b[0;32m~/.local/lib/python3.10/site-packages/promptflow/_sdk/operations/_run_submitter.py:302\u001b[0m, in \u001b[0;36mRunSubmitter._submit_bulk_run\u001b[0;34m(self, flow, run, local_storage)\u001b[0m\n\u001b[1;32m    301\u001b[0m \u001b[39m# create run to db when fully prepared to run in executor, otherwise won't create it\u001b[39;00m\n\u001b[0;32m--> 302\u001b[0m run\u001b[39m.\u001b[39;49m_dump()  \u001b[39m# pylint: disable=protected-access\u001b[39;00m\n\u001b[1;32m    303\u001b[0m \u001b[39mtry\u001b[39;00m:\n",
      "File \u001b[0;32m~/.local/lib/python3.10/site-packages/promptflow/_sdk/entities/_run.py:297\u001b[0m, in \u001b[0;36m_dump\u001b[0;34m(self)\u001b[0m\n\u001b[1;32m    290\u001b[0m flow_run_id \u001b[39m=\u001b[39m run_entity\u001b[39m.\u001b[39mflow_run_resource_id\u001b[39m.\u001b[39msplit(\u001b[39m\"\u001b[39m\u001b[39m/\u001b[39m\u001b[39m\"\u001b[39m)[\u001b[39m-\u001b[39m\u001b[39m1\u001b[39m]\n\u001b[1;32m    291\u001b[0m \u001b[39mreturn\u001b[39;00m \u001b[39mcls\u001b[39m(\n\u001b[1;32m    292\u001b[0m     name\u001b[39m=\u001b[39mflow_run_id,\n\u001b[1;32m    293\u001b[0m     flow\u001b[39m=\u001b[39mPath(\u001b[39mf\u001b[39m\u001b[39m\"\u001b[39m\u001b[39mazureml://flows/\u001b[39m\u001b[39m{\u001b[39;00mrun_entity\u001b[39m.\u001b[39mflow_name\u001b[39m}\u001b[39;00m\u001b[39m\"\u001b[39m),\n\u001b[1;32m    294\u001b[0m     display_name\u001b[39m=\u001b[39mrun_entity\u001b[39m.\u001b[39mflow_run_display_name,\n\u001b[1;32m    295\u001b[0m     description\u001b[39m=\u001b[39m\u001b[39m\"\u001b[39m\u001b[39m\"\u001b[39m,\n\u001b[1;32m    296\u001b[0m     tags\u001b[39m=\u001b[39m[],\n\u001b[0;32m--> 297\u001b[0m     created_on\u001b[39m=\u001b[39mdate_parser\u001b[39m.\u001b[39mparse(run_entity\u001b[39m.\u001b[39mcreated_on),\n\u001b[1;32m    298\u001b[0m     status\u001b[39m=\u001b[39m\u001b[39m\"\u001b[39m\u001b[39m\"\u001b[39m,\n\u001b[1;32m    299\u001b[0m     run_source\u001b[39m=\u001b[39mRunInfoSources\u001b[39m.\u001b[39mMT_SERVICE,\n\u001b[1;32m    300\u001b[0m )\n",
      "File \u001b[0;32m~/.local/lib/python3.10/site-packages/promptflow/_sdk/_orm/retry.py:43\u001b[0m, in \u001b[0;36mretry.<locals>.deco_retry.<locals>.f_retry\u001b[0;34m(*args, **kwargs)\u001b[0m\n\u001b[1;32m     42\u001b[0m         logger\u001b[39m.\u001b[39minfo(\u001b[39m\"\u001b[39m\u001b[39mRunning \u001b[39m\u001b[39m%s\u001b[39;00m\u001b[39m, \u001b[39m\u001b[39m%d\u001b[39;00m\u001b[39m more tries to go.\u001b[39m\u001b[39m\"\u001b[39m, \u001b[39mstr\u001b[39m(f), retry_times)\n\u001b[0;32m---> 43\u001b[0m     \u001b[39mreturn\u001b[39;00m f(\u001b[39m*\u001b[39;49margs, \u001b[39m*\u001b[39;49m\u001b[39m*\u001b[39;49mkwargs)\n\u001b[1;32m     44\u001b[0m \u001b[39mexcept\u001b[39;00m exception_to_check:\n",
      "File \u001b[0;32m~/.local/lib/python3.10/site-packages/promptflow/_sdk/_orm/run_info.py:67\u001b[0m, in \u001b[0;36mRunInfo.dump\u001b[0;34m(self)\u001b[0m\n\u001b[1;32m     66\u001b[0m     \u001b[39mraise\u001b[39;00m\n\u001b[0;32m---> 67\u001b[0m \u001b[39mraise\u001b[39;00m RunExistsError(\u001b[39mf\u001b[39m\u001b[39m\"\u001b[39m\u001b[39mRun name \u001b[39m\u001b[39m{\u001b[39;00m\u001b[39mself\u001b[39m\u001b[39m.\u001b[39mname\u001b[39m!r}\u001b[39;00m\u001b[39m already exists.\u001b[39m\u001b[39m\"\u001b[39m)\n",
      "\u001b[0;31mRunExistsError\u001b[0m: Run name '2023_12_05_231355_base_run' already exists.",
      "\nDuring handling of the above exception, another exception occurred:\n",
      "\u001b[0;31mRunExistsError\u001b[0m                            Traceback (most recent call last)",
      "\u001b[1;32m/afh/projects/jacwang-9660-5e1899f1-60e7-457f-b5de-40a0a1876d2e/shared/Users/jacwang/promptflow/contoso-trek/notebook/quick-eval.ipynb Cell 15\u001b[0m line \u001b[0;36m1\n\u001b[0;32m----> <a href='vscode-notebook-cell://amlext%2B%2Bsubscriptions%2B6025ba02-1dfd-407f-b358-88f811c7c7aa%2Bresourcegroups%2Bcopilot_test%2Bproviders%2Bmicrosoft.machinelearningservices%2Bworkspaces%2Bjacwang-9660%2Bcomputes%2Bpf-runtime%2Benvironment%2Bgenerative-ai-app-5e1899f1-60e7-457f-b5de-40a0a1876d2e:public:16b3c013-d300-468d-ac64-7eda0820b6d3/afh/projects/jacwang-9660-5e1899f1-60e7-457f-b5de-40a0a1876d2e/shared/Users/jacwang/promptflow/contoso-trek/notebook/quick-eval.ipynb#X43sdnNjb2RlLXJlbW90ZQ%3D%3D?line=0'>1</a>\u001b[0m base_run \u001b[39m=\u001b[39m pf_client\u001b[39m.\u001b[39;49mrun(\n\u001b[1;32m      <a href='vscode-notebook-cell://amlext%2B%2Bsubscriptions%2B6025ba02-1dfd-407f-b358-88f811c7c7aa%2Bresourcegroups%2Bcopilot_test%2Bproviders%2Bmicrosoft.machinelearningservices%2Bworkspaces%2Bjacwang-9660%2Bcomputes%2Bpf-runtime%2Benvironment%2Bgenerative-ai-app-5e1899f1-60e7-457f-b5de-40a0a1876d2e:public:16b3c013-d300-468d-ac64-7eda0820b6d3/afh/projects/jacwang-9660-5e1899f1-60e7-457f-b5de-40a0a1876d2e/shared/Users/jacwang/promptflow/contoso-trek/notebook/quick-eval.ipynb#X43sdnNjb2RlLXJlbW90ZQ%3D%3D?line=1'>2</a>\u001b[0m     flow\u001b[39m=\u001b[39;49mflow,\n\u001b[1;32m      <a href='vscode-notebook-cell://amlext%2B%2Bsubscriptions%2B6025ba02-1dfd-407f-b358-88f811c7c7aa%2Bresourcegroups%2Bcopilot_test%2Bproviders%2Bmicrosoft.machinelearningservices%2Bworkspaces%2Bjacwang-9660%2Bcomputes%2Bpf-runtime%2Benvironment%2Bgenerative-ai-app-5e1899f1-60e7-457f-b5de-40a0a1876d2e:public:16b3c013-d300-468d-ac64-7eda0820b6d3/afh/projects/jacwang-9660-5e1899f1-60e7-457f-b5de-40a0a1876d2e/shared/Users/jacwang/promptflow/contoso-trek/notebook/quick-eval.ipynb#X43sdnNjb2RlLXJlbW90ZQ%3D%3D?line=2'>3</a>\u001b[0m     data\u001b[39m=\u001b[39;49mdata,\n\u001b[1;32m      <a href='vscode-notebook-cell://amlext%2B%2Bsubscriptions%2B6025ba02-1dfd-407f-b358-88f811c7c7aa%2Bresourcegroups%2Bcopilot_test%2Bproviders%2Bmicrosoft.machinelearningservices%2Bworkspaces%2Bjacwang-9660%2Bcomputes%2Bpf-runtime%2Benvironment%2Bgenerative-ai-app-5e1899f1-60e7-457f-b5de-40a0a1876d2e:public:16b3c013-d300-468d-ac64-7eda0820b6d3/afh/projects/jacwang-9660-5e1899f1-60e7-457f-b5de-40a0a1876d2e/shared/Users/jacwang/promptflow/contoso-trek/notebook/quick-eval.ipynb#X43sdnNjb2RlLXJlbW90ZQ%3D%3D?line=3'>4</a>\u001b[0m     column_mapping\u001b[39m=\u001b[39;49m{\n\u001b[1;32m      <a href='vscode-notebook-cell://amlext%2B%2Bsubscriptions%2B6025ba02-1dfd-407f-b358-88f811c7c7aa%2Bresourcegroups%2Bcopilot_test%2Bproviders%2Bmicrosoft.machinelearningservices%2Bworkspaces%2Bjacwang-9660%2Bcomputes%2Bpf-runtime%2Benvironment%2Bgenerative-ai-app-5e1899f1-60e7-457f-b5de-40a0a1876d2e:public:16b3c013-d300-468d-ac64-7eda0820b6d3/afh/projects/jacwang-9660-5e1899f1-60e7-457f-b5de-40a0a1876d2e/shared/Users/jacwang/promptflow/contoso-trek/notebook/quick-eval.ipynb#X43sdnNjb2RlLXJlbW90ZQ%3D%3D?line=4'>5</a>\u001b[0m         \u001b[39m# reference data\u001b[39;49;00m\n\u001b[1;32m      <a href='vscode-notebook-cell://amlext%2B%2Bsubscriptions%2B6025ba02-1dfd-407f-b358-88f811c7c7aa%2Bresourcegroups%2Bcopilot_test%2Bproviders%2Bmicrosoft.machinelearningservices%2Bworkspaces%2Bjacwang-9660%2Bcomputes%2Bpf-runtime%2Benvironment%2Bgenerative-ai-app-5e1899f1-60e7-457f-b5de-40a0a1876d2e:public:16b3c013-d300-468d-ac64-7eda0820b6d3/afh/projects/jacwang-9660-5e1899f1-60e7-457f-b5de-40a0a1876d2e/shared/Users/jacwang/promptflow/contoso-trek/notebook/quick-eval.ipynb#X43sdnNjb2RlLXJlbW90ZQ%3D%3D?line=5'>6</a>\u001b[0m         \u001b[39m\"\u001b[39;49m\u001b[39mcustomerId\u001b[39;49m\u001b[39m\"\u001b[39;49m: \u001b[39m\"\u001b[39;49m\u001b[39m$\u001b[39;49m\u001b[39m{data.customerId}\u001b[39;49;00m\u001b[39m\"\u001b[39;49m,\n\u001b[1;32m      <a href='vscode-notebook-cell://amlext%2B%2Bsubscriptions%2B6025ba02-1dfd-407f-b358-88f811c7c7aa%2Bresourcegroups%2Bcopilot_test%2Bproviders%2Bmicrosoft.machinelearningservices%2Bworkspaces%2Bjacwang-9660%2Bcomputes%2Bpf-runtime%2Benvironment%2Bgenerative-ai-app-5e1899f1-60e7-457f-b5de-40a0a1876d2e:public:16b3c013-d300-468d-ac64-7eda0820b6d3/afh/projects/jacwang-9660-5e1899f1-60e7-457f-b5de-40a0a1876d2e/shared/Users/jacwang/promptflow/contoso-trek/notebook/quick-eval.ipynb#X43sdnNjb2RlLXJlbW90ZQ%3D%3D?line=6'>7</a>\u001b[0m         \u001b[39m\"\u001b[39;49m\u001b[39mquestion\u001b[39;49m\u001b[39m\"\u001b[39;49m: \u001b[39m\"\u001b[39;49m\u001b[39m$\u001b[39;49m\u001b[39m{data.question}\u001b[39;49;00m\u001b[39m\"\u001b[39;49m,\n\u001b[1;32m      <a href='vscode-notebook-cell://amlext%2B%2Bsubscriptions%2B6025ba02-1dfd-407f-b358-88f811c7c7aa%2Bresourcegroups%2Bcopilot_test%2Bproviders%2Bmicrosoft.machinelearningservices%2Bworkspaces%2Bjacwang-9660%2Bcomputes%2Bpf-runtime%2Benvironment%2Bgenerative-ai-app-5e1899f1-60e7-457f-b5de-40a0a1876d2e:public:16b3c013-d300-468d-ac64-7eda0820b6d3/afh/projects/jacwang-9660-5e1899f1-60e7-457f-b5de-40a0a1876d2e/shared/Users/jacwang/promptflow/contoso-trek/notebook/quick-eval.ipynb#X43sdnNjb2RlLXJlbW90ZQ%3D%3D?line=7'>8</a>\u001b[0m     },\n\u001b[1;32m      <a href='vscode-notebook-cell://amlext%2B%2Bsubscriptions%2B6025ba02-1dfd-407f-b358-88f811c7c7aa%2Bresourcegroups%2Bcopilot_test%2Bproviders%2Bmicrosoft.machinelearningservices%2Bworkspaces%2Bjacwang-9660%2Bcomputes%2Bpf-runtime%2Benvironment%2Bgenerative-ai-app-5e1899f1-60e7-457f-b5de-40a0a1876d2e:public:16b3c013-d300-468d-ac64-7eda0820b6d3/afh/projects/jacwang-9660-5e1899f1-60e7-457f-b5de-40a0a1876d2e/shared/Users/jacwang/promptflow/contoso-trek/notebook/quick-eval.ipynb#X43sdnNjb2RlLXJlbW90ZQ%3D%3D?line=8'>9</a>\u001b[0m     \u001b[39m# create a display name as current datetime\u001b[39;49;00m\n\u001b[1;32m     <a href='vscode-notebook-cell://amlext%2B%2Bsubscriptions%2B6025ba02-1dfd-407f-b358-88f811c7c7aa%2Bresourcegroups%2Bcopilot_test%2Bproviders%2Bmicrosoft.machinelearningservices%2Bworkspaces%2Bjacwang-9660%2Bcomputes%2Bpf-runtime%2Benvironment%2Bgenerative-ai-app-5e1899f1-60e7-457f-b5de-40a0a1876d2e:public:16b3c013-d300-468d-ac64-7eda0820b6d3/afh/projects/jacwang-9660-5e1899f1-60e7-457f-b5de-40a0a1876d2e/shared/Users/jacwang/promptflow/contoso-trek/notebook/quick-eval.ipynb#X43sdnNjb2RlLXJlbW90ZQ%3D%3D?line=9'>10</a>\u001b[0m     display_name\u001b[39m=\u001b[39;49mrun_name,\n\u001b[1;32m     <a href='vscode-notebook-cell://amlext%2B%2Bsubscriptions%2B6025ba02-1dfd-407f-b358-88f811c7c7aa%2Bresourcegroups%2Bcopilot_test%2Bproviders%2Bmicrosoft.machinelearningservices%2Bworkspaces%2Bjacwang-9660%2Bcomputes%2Bpf-runtime%2Benvironment%2Bgenerative-ai-app-5e1899f1-60e7-457f-b5de-40a0a1876d2e:public:16b3c013-d300-468d-ac64-7eda0820b6d3/afh/projects/jacwang-9660-5e1899f1-60e7-457f-b5de-40a0a1876d2e/shared/Users/jacwang/promptflow/contoso-trek/notebook/quick-eval.ipynb#X43sdnNjb2RlLXJlbW90ZQ%3D%3D?line=10'>11</a>\u001b[0m     name\u001b[39m=\u001b[39;49mrun_name\n\u001b[1;32m     <a href='vscode-notebook-cell://amlext%2B%2Bsubscriptions%2B6025ba02-1dfd-407f-b358-88f811c7c7aa%2Bresourcegroups%2Bcopilot_test%2Bproviders%2Bmicrosoft.machinelearningservices%2Bworkspaces%2Bjacwang-9660%2Bcomputes%2Bpf-runtime%2Benvironment%2Bgenerative-ai-app-5e1899f1-60e7-457f-b5de-40a0a1876d2e:public:16b3c013-d300-468d-ac64-7eda0820b6d3/afh/projects/jacwang-9660-5e1899f1-60e7-457f-b5de-40a0a1876d2e/shared/Users/jacwang/promptflow/contoso-trek/notebook/quick-eval.ipynb#X43sdnNjb2RlLXJlbW90ZQ%3D%3D?line=11'>12</a>\u001b[0m )\n\u001b[1;32m     <a href='vscode-notebook-cell://amlext%2B%2Bsubscriptions%2B6025ba02-1dfd-407f-b358-88f811c7c7aa%2Bresourcegroups%2Bcopilot_test%2Bproviders%2Bmicrosoft.machinelearningservices%2Bworkspaces%2Bjacwang-9660%2Bcomputes%2Bpf-runtime%2Benvironment%2Bgenerative-ai-app-5e1899f1-60e7-457f-b5de-40a0a1876d2e:public:16b3c013-d300-468d-ac64-7eda0820b6d3/afh/projects/jacwang-9660-5e1899f1-60e7-457f-b5de-40a0a1876d2e/shared/Users/jacwang/promptflow/contoso-trek/notebook/quick-eval.ipynb#X43sdnNjb2RlLXJlbW90ZQ%3D%3D?line=12'>13</a>\u001b[0m \u001b[39mprint\u001b[39m(base_run)\n",
      "File \u001b[0;32m~/.local/lib/python3.10/site-packages/promptflow/_sdk/_pf_client.py:128\u001b[0m, in \u001b[0;36mrun\u001b[0;34m(self, flow, data, run, column_mapping, variant, connections, environment_variables, name, display_name, tags, **kwargs)\u001b[0m\n\u001b[1;32m    113\u001b[0m     \u001b[39mraise\u001b[39;00m \u001b[39mValueError\u001b[39;00m(\u001b[39m\"\u001b[39m\u001b[39mat least one of data or run must be provided\u001b[39m\u001b[39m\"\u001b[39m)\n\u001b[1;32m    115\u001b[0m run \u001b[39m=\u001b[39m Run(\n\u001b[1;32m    116\u001b[0m     name\u001b[39m=\u001b[39mname,\n\u001b[1;32m    117\u001b[0m     display_name\u001b[39m=\u001b[39mdisplay_name,\n\u001b[0;32m   (...)\u001b[0m\n\u001b[1;32m    126\u001b[0m     config\u001b[39m=\u001b[39mConfiguration(overrides\u001b[39m=\u001b[39m\u001b[39mself\u001b[39m\u001b[39m.\u001b[39m_config),\n\u001b[1;32m    127\u001b[0m )\n\u001b[0;32m--> 128\u001b[0m \u001b[39mreturn\u001b[39;00m \u001b[39mself\u001b[39m\u001b[39m.\u001b[39mruns\u001b[39m.\u001b[39mcreate_or_update(run\u001b[39m=\u001b[39mrun, \u001b[39m*\u001b[39m\u001b[39m*\u001b[39mkwargs)\n",
      "File \u001b[0;32m~/.local/lib/python3.10/site-packages/promptflow/_telemetry/activity.py:138\u001b[0m, in \u001b[0;36mmonitor_operation.<locals>.monitor.<locals>.wrapper\u001b[0;34m(self, *args, **kwargs)\u001b[0m\n\u001b[1;32m    135\u001b[0m custom_dimensions\u001b[39m.\u001b[39mupdate(extract_telemetry_info(\u001b[39mself\u001b[39m))\n\u001b[1;32m    137\u001b[0m \u001b[39mwith\u001b[39;00m log_activity(logger, activity_name, activity_type, custom_dimensions):\n\u001b[0;32m--> 138\u001b[0m     \u001b[39mreturn\u001b[39;00m f(\u001b[39mself\u001b[39;49m, \u001b[39m*\u001b[39;49margs, \u001b[39m*\u001b[39;49m\u001b[39m*\u001b[39;49mkwargs)\n",
      "File \u001b[0;32m~/.local/lib/python3.10/site-packages/promptflow/_sdk/operations/_run_operations.py:100\u001b[0m, in \u001b[0;36mcreate_or_update\u001b[0;34m(self, run, **kwargs)\u001b[0m\n\u001b[1;32m     98\u001b[0m     created_run \u001b[39m=\u001b[39m RunSubmitter(run_operations\u001b[39m=\u001b[39m\u001b[39mself\u001b[39m)\u001b[39m.\u001b[39msubmit(run\u001b[39m=\u001b[39mrun, \u001b[39m*\u001b[39m\u001b[39m*\u001b[39mkwargs)\n\u001b[1;32m     99\u001b[0m     \u001b[39mif\u001b[39;00m stream:\n\u001b[0;32m--> 100\u001b[0m         \u001b[39mself\u001b[39m\u001b[39m.\u001b[39mstream(created_run)\n\u001b[1;32m    101\u001b[0m     \u001b[39mreturn\u001b[39;00m created_run\n\u001b[1;32m    102\u001b[0m \u001b[39mexcept\u001b[39;00m RunExistsError:\n",
      "\u001b[0;31mRunExistsError\u001b[0m: Run '2023_12_05_231355_base_run' already exists."
     ]
    }
   ],
   "source": [
    "\n",
    "base_run = pf_client.run(\n",
    "    flow=flow,\n",
    "    data=data,\n",
    "    column_mapping={\n",
    "        # reference data\n",
    "        \"customerId\": \"${data.customerId}\",\n",
    "        \"question\": \"${data.question}\",\n",
    "    },\n",
    "    runtime=runtime,\n",
    "    # create a display name as current datetime\n",
    "    display_name=run_name,\n",
    "    name=run_name\n",
    ")\n",
    "print(base_run)"
   ]
  },
  {
   "cell_type": "code",
   "execution_count": 3,
   "metadata": {},
   "outputs": [
    {
     "data": {
      "text/html": [
       "<div>\n",
       "<style scoped>\n",
       "    .dataframe tbody tr th:only-of-type {\n",
       "        vertical-align: middle;\n",
       "    }\n",
       "\n",
       "    .dataframe tbody tr th {\n",
       "        vertical-align: top;\n",
       "    }\n",
       "\n",
       "    .dataframe thead th {\n",
       "        text-align: right;\n",
       "    }\n",
       "</style>\n",
       "<table border=\"1\" class=\"dataframe\">\n",
       "  <thead>\n",
       "    <tr style=\"text-align: right;\">\n",
       "      <th></th>\n",
       "      <th>inputs.chat_history</th>\n",
       "      <th>inputs.question</th>\n",
       "      <th>inputs.customerId</th>\n",
       "      <th>inputs.line_number</th>\n",
       "      <th>outputs.answer</th>\n",
       "      <th>outputs.context</th>\n",
       "      <th>outputs.line_number</th>\n",
       "    </tr>\n",
       "  </thead>\n",
       "  <tbody>\n",
       "    <tr>\n",
       "      <th>0</th>\n",
       "      <td>[]</td>\n",
       "      <td>tell me about your hiking jackets</td>\n",
       "      <td>2</td>\n",
       "      <td>0</td>\n",
       "      <td>Hey Jane Doe! 🌲🏞️\\n\\nOur hiking jackets are am...</td>\n",
       "      <td>[{'id': 'cHJvZHVjdF9pbmZvXzE3Lm1kNA==', 'title...</td>\n",
       "      <td>0</td>\n",
       "    </tr>\n",
       "    <tr>\n",
       "      <th>1</th>\n",
       "      <td>[]</td>\n",
       "      <td>Do you have any climbing gear?</td>\n",
       "      <td>1</td>\n",
       "      <td>1</td>\n",
       "      <td>Hey John Smith! 😄 Yes, we have climbing gear a...</td>\n",
       "      <td>[{'id': 'cHJvZHVjdF9pbmZvXzkubWQ3', 'title': '...</td>\n",
       "      <td>1</td>\n",
       "    </tr>\n",
       "    <tr>\n",
       "      <th>2</th>\n",
       "      <td>[]</td>\n",
       "      <td>Can you tell me about your selection of tents?</td>\n",
       "      <td>1</td>\n",
       "      <td>2</td>\n",
       "      <td>Of course, John! 🏕️ We have a great selection ...</td>\n",
       "      <td>[{'id': 'cHJvZHVjdF9pbmZvXzEubWQ0', 'title': '...</td>\n",
       "      <td>2</td>\n",
       "    </tr>\n",
       "    <tr>\n",
       "      <th>3</th>\n",
       "      <td>[]</td>\n",
       "      <td>Do you have any hiking boots?</td>\n",
       "      <td>1</td>\n",
       "      <td>3</td>\n",
       "      <td>Hey John Smith! 👋 Yes, we have some awesome hi...</td>\n",
       "      <td>[{'id': 'cHJvZHVjdF9pbmZvXzQubWQxNw==', 'title...</td>\n",
       "      <td>3</td>\n",
       "    </tr>\n",
       "    <tr>\n",
       "      <th>4</th>\n",
       "      <td>[]</td>\n",
       "      <td>What gear do you recommend for hiking?</td>\n",
       "      <td>2</td>\n",
       "      <td>4</td>\n",
       "      <td>Hi Jane! 🥾 For hiking, I recommend the TrailBl...</td>\n",
       "      <td>[{'id': 'cHJvZHVjdF9pbmZvXzEwLm1kNQ==', 'title...</td>\n",
       "      <td>4</td>\n",
       "    </tr>\n",
       "  </tbody>\n",
       "</table>\n",
       "</div>"
      ],
      "text/plain": [
       "  inputs.chat_history                                 inputs.question  \\\n",
       "0                  []               tell me about your hiking jackets   \n",
       "1                  []                  Do you have any climbing gear?   \n",
       "2                  []  Can you tell me about your selection of tents?   \n",
       "3                  []                   Do you have any hiking boots?   \n",
       "4                  []          What gear do you recommend for hiking?   \n",
       "\n",
       "  inputs.customerId  inputs.line_number  \\\n",
       "0                 2                   0   \n",
       "1                 1                   1   \n",
       "2                 1                   2   \n",
       "3                 1                   3   \n",
       "4                 2                   4   \n",
       "\n",
       "                                      outputs.answer  \\\n",
       "0  Hey Jane Doe! 🌲🏞️\\n\\nOur hiking jackets are am...   \n",
       "1  Hey John Smith! 😄 Yes, we have climbing gear a...   \n",
       "2  Of course, John! 🏕️ We have a great selection ...   \n",
       "3  Hey John Smith! 👋 Yes, we have some awesome hi...   \n",
       "4  Hi Jane! 🥾 For hiking, I recommend the TrailBl...   \n",
       "\n",
       "                                     outputs.context  outputs.line_number  \n",
       "0  [{'id': 'cHJvZHVjdF9pbmZvXzE3Lm1kNA==', 'title...                    0  \n",
       "1  [{'id': 'cHJvZHVjdF9pbmZvXzkubWQ3', 'title': '...                    1  \n",
       "2  [{'id': 'cHJvZHVjdF9pbmZvXzEubWQ0', 'title': '...                    2  \n",
       "3  [{'id': 'cHJvZHVjdF9pbmZvXzQubWQxNw==', 'title...                    3  \n",
       "4  [{'id': 'cHJvZHVjdF9pbmZvXzEwLm1kNQ==', 'title...                    4  "
      ]
     },
     "execution_count": 3,
     "metadata": {},
     "output_type": "execute_result"
    }
   ],
   "source": [
    "details = pf_client.get_details(\"contoso-trek_default_20231205_230131_709000\")\n",
    "details.head(10)"
   ]
  },
  {
   "cell_type": "code",
   "execution_count": 5,
   "metadata": {},
   "outputs": [
    {
     "data": {
      "text/html": [
       "<div>\n",
       "<style scoped>\n",
       "    .dataframe tbody tr th:only-of-type {\n",
       "        vertical-align: middle;\n",
       "    }\n",
       "\n",
       "    .dataframe tbody tr th {\n",
       "        vertical-align: top;\n",
       "    }\n",
       "\n",
       "    .dataframe thead th {\n",
       "        text-align: right;\n",
       "    }\n",
       "</style>\n",
       "<table border=\"1\" class=\"dataframe\">\n",
       "  <thead>\n",
       "    <tr style=\"text-align: right;\">\n",
       "      <th></th>\n",
       "      <th>inputs.chat_history</th>\n",
       "      <th>inputs.question</th>\n",
       "      <th>inputs.context</th>\n",
       "      <th>inputs.answer</th>\n",
       "      <th>inputs.line_number</th>\n",
       "      <th>outputs.gpt_coherence</th>\n",
       "      <th>outputs.gpt_fluency</th>\n",
       "      <th>outputs.gpt_groundedness</th>\n",
       "      <th>outputs.gpt_relevance</th>\n",
       "    </tr>\n",
       "  </thead>\n",
       "  <tbody>\n",
       "    <tr>\n",
       "      <th>0</th>\n",
       "      <td>[]</td>\n",
       "      <td>tell me about your hiking jackets</td>\n",
       "      <td>[{'id': 'cHJvZHVjdF9pbmZvXzE3Lm1kNA==', 'title...</td>\n",
       "      <td>Hey Jane Doe! 🌲🏞️\\n\\nOur hiking jackets are am...</td>\n",
       "      <td>0</td>\n",
       "      <td>5</td>\n",
       "      <td>5</td>\n",
       "      <td>5</td>\n",
       "      <td>5</td>\n",
       "    </tr>\n",
       "    <tr>\n",
       "      <th>1</th>\n",
       "      <td>[]</td>\n",
       "      <td>Do you have any climbing gear?</td>\n",
       "      <td>[{'id': 'cHJvZHVjdF9pbmZvXzkubWQ3', 'title': '...</td>\n",
       "      <td>Hey John Smith! 😄 Yes, we have climbing gear a...</td>\n",
       "      <td>1</td>\n",
       "      <td>4</td>\n",
       "      <td>5</td>\n",
       "      <td>5</td>\n",
       "      <td>4</td>\n",
       "    </tr>\n",
       "    <tr>\n",
       "      <th>2</th>\n",
       "      <td>[]</td>\n",
       "      <td>Can you tell me about your selection of tents?</td>\n",
       "      <td>[{'id': 'cHJvZHVjdF9pbmZvXzEubWQ0', 'title': '...</td>\n",
       "      <td>Of course, John! 🏕️ We have a great selection ...</td>\n",
       "      <td>2</td>\n",
       "      <td>5</td>\n",
       "      <td>1</td>\n",
       "      <td>5</td>\n",
       "      <td>5</td>\n",
       "    </tr>\n",
       "    <tr>\n",
       "      <th>3</th>\n",
       "      <td>[]</td>\n",
       "      <td>Do you have any hiking boots?</td>\n",
       "      <td>[{'id': 'cHJvZHVjdF9pbmZvXzQubWQxNw==', 'title...</td>\n",
       "      <td>Hey John Smith! 👋 Yes, we have some awesome hi...</td>\n",
       "      <td>3</td>\n",
       "      <td>4</td>\n",
       "      <td>5</td>\n",
       "      <td>5</td>\n",
       "      <td>5</td>\n",
       "    </tr>\n",
       "    <tr>\n",
       "      <th>4</th>\n",
       "      <td>[]</td>\n",
       "      <td>What gear do you recommend for hiking?</td>\n",
       "      <td>[{'id': 'cHJvZHVjdF9pbmZvXzEwLm1kNQ==', 'title...</td>\n",
       "      <td>Hi Jane! 🥾 For hiking, I recommend the TrailBl...</td>\n",
       "      <td>4</td>\n",
       "      <td>4</td>\n",
       "      <td>5</td>\n",
       "      <td>5</td>\n",
       "      <td>5</td>\n",
       "    </tr>\n",
       "  </tbody>\n",
       "</table>\n",
       "</div>"
      ],
      "text/plain": [
       "  inputs.chat_history                                 inputs.question  \\\n",
       "0                  []               tell me about your hiking jackets   \n",
       "1                  []                  Do you have any climbing gear?   \n",
       "2                  []  Can you tell me about your selection of tents?   \n",
       "3                  []                   Do you have any hiking boots?   \n",
       "4                  []          What gear do you recommend for hiking?   \n",
       "\n",
       "                                      inputs.context  \\\n",
       "0  [{'id': 'cHJvZHVjdF9pbmZvXzE3Lm1kNA==', 'title...   \n",
       "1  [{'id': 'cHJvZHVjdF9pbmZvXzkubWQ3', 'title': '...   \n",
       "2  [{'id': 'cHJvZHVjdF9pbmZvXzEubWQ0', 'title': '...   \n",
       "3  [{'id': 'cHJvZHVjdF9pbmZvXzQubWQxNw==', 'title...   \n",
       "4  [{'id': 'cHJvZHVjdF9pbmZvXzEwLm1kNQ==', 'title...   \n",
       "\n",
       "                                       inputs.answer  inputs.line_number  \\\n",
       "0  Hey Jane Doe! 🌲🏞️\\n\\nOur hiking jackets are am...                   0   \n",
       "1  Hey John Smith! 😄 Yes, we have climbing gear a...                   1   \n",
       "2  Of course, John! 🏕️ We have a great selection ...                   2   \n",
       "3  Hey John Smith! 👋 Yes, we have some awesome hi...                   3   \n",
       "4  Hi Jane! 🥾 For hiking, I recommend the TrailBl...                   4   \n",
       "\n",
       "   outputs.gpt_coherence  outputs.gpt_fluency  outputs.gpt_groundedness  \\\n",
       "0                      5                    5                         5   \n",
       "1                      4                    5                         5   \n",
       "2                      5                    1                         5   \n",
       "3                      4                    5                         5   \n",
       "4                      4                    5                         5   \n",
       "\n",
       "   outputs.gpt_relevance  \n",
       "0                      5  \n",
       "1                      4  \n",
       "2                      5  \n",
       "3                      5  \n",
       "4                      5  "
      ]
     },
     "execution_count": 5,
     "metadata": {},
     "output_type": "execute_result"
    }
   ],
   "source": [
    "eval_run = \"multi_flow_default_20231205_231752_469000\"\n",
    "details = pf_client.get_details(eval_run)\n",
    "details.head(10)"
   ]
  },
  {
   "cell_type": "markdown",
   "metadata": {},
   "source": [
    "# Cloud Batch Run on Json Data"
   ]
  },
  {
   "cell_type": "code",
   "execution_count": 13,
   "metadata": {},
   "outputs": [],
   "source": [
    "import json\n",
    "# Import required libraries\n",
    "from promptflow.azure import PFClient\n",
    "\n",
    "# Import required libraries\n",
    "from azure.identity import DefaultAzureCredential, InteractiveBrowserCredential"
   ]
  },
  {
   "cell_type": "code",
   "execution_count": 14,
   "metadata": {},
   "outputs": [],
   "source": [
    "try:\n",
    "    credential = DefaultAzureCredential()\n",
    "    # Check if given credential can get token successfully.\n",
    "    credential.get_token(\"https://management.azure.com/.default\")\n",
    "except Exception as ex:\n",
    "    # Fall back to InteractiveBrowserCredential in case DefaultAzureCredential not work\n",
    "    credential = InteractiveBrowserCredential()"
   ]
  },
  {
   "cell_type": "code",
   "execution_count": 17,
   "metadata": {},
   "outputs": [
    {
     "ename": "ValueError",
     "evalue": "credential can not be None",
     "output_type": "error",
     "traceback": [
      "\u001b[0;31m---------------------------------------------------------------------------\u001b[0m",
      "\u001b[0;31mValueError\u001b[0m                                Traceback (most recent call last)",
      "\u001b[1;32m/afh/projects/jacwang-9660-5e1899f1-60e7-457f-b5de-40a0a1876d2e/shared/Users/jacwang/promptflow/contoso-trek/notebook/quick-eval.ipynb Cell 15\u001b[0m line \u001b[0;36m2\n\u001b[1;32m      <a href='vscode-notebook-cell://amlext%2B%2Bsubscriptions%2B6025ba02-1dfd-407f-b358-88f811c7c7aa%2Bresourcegroups%2Bcopilot_test%2Bproviders%2Bmicrosoft.machinelearningservices%2Bworkspaces%2Bjacwang-9660%2Bcomputes%2Bpf-runtime%2Benvironment%2Bgenerative-ai-app-5e1899f1-60e7-457f-b5de-40a0a1876d2e:public:16b3c013-d300-468d-ac64-7eda0820b6d3/afh/projects/jacwang-9660-5e1899f1-60e7-457f-b5de-40a0a1876d2e/shared/Users/jacwang/promptflow/contoso-trek/notebook/quick-eval.ipynb#X20sdnNjb2RlLXJlbW90ZQ%3D%3D?line=0'>1</a>\u001b[0m config_path \u001b[39m=\u001b[39m \u001b[39m\"\u001b[39m\u001b[39m../config.json\u001b[39m\u001b[39m\"\u001b[39m\n\u001b[0;32m----> <a href='vscode-notebook-cell://amlext%2B%2Bsubscriptions%2B6025ba02-1dfd-407f-b358-88f811c7c7aa%2Bresourcegroups%2Bcopilot_test%2Bproviders%2Bmicrosoft.machinelearningservices%2Bworkspaces%2Bjacwang-9660%2Bcomputes%2Bpf-runtime%2Benvironment%2Bgenerative-ai-app-5e1899f1-60e7-457f-b5de-40a0a1876d2e:public:16b3c013-d300-468d-ac64-7eda0820b6d3/afh/projects/jacwang-9660-5e1899f1-60e7-457f-b5de-40a0a1876d2e/shared/Users/jacwang/promptflow/contoso-trek/notebook/quick-eval.ipynb#X20sdnNjb2RlLXJlbW90ZQ%3D%3D?line=1'>2</a>\u001b[0m pf \u001b[39m=\u001b[39m PFClient()\n",
      "File \u001b[0;32m~/.local/lib/python3.10/site-packages/promptflow/azure/_pf_client.py:53\u001b[0m, in \u001b[0;36m__init__\u001b[0;34m(self, credential, subscription_id, resource_group_name, workspace_name, **kwargs)\u001b[0m\n\u001b[1;32m     51\u001b[0m user_agent \u001b[39m=\u001b[39m setup_user_agent_to_operation_context(USER_AGENT)\n\u001b[1;32m     52\u001b[0m kwargs\u001b[39m.\u001b[39msetdefault(\u001b[39m\"\u001b[39m\u001b[39muser_agent\u001b[39m\u001b[39m\"\u001b[39m, user_agent)\n\u001b[0;32m---> 53\u001b[0m \u001b[39mself\u001b[39m\u001b[39m.\u001b[39m_ml_client \u001b[39m=\u001b[39m kwargs\u001b[39m.\u001b[39mpop(\u001b[39m\"\u001b[39m\u001b[39mml_client\u001b[39m\u001b[39m\"\u001b[39m, \u001b[39mNone\u001b[39;00m) \u001b[39mor\u001b[39;00m MLClient(\n\u001b[1;32m     54\u001b[0m     credential\u001b[39m=\u001b[39mcredential,\n\u001b[1;32m     55\u001b[0m     subscription_id\u001b[39m=\u001b[39msubscription_id,\n\u001b[1;32m     56\u001b[0m     resource_group_name\u001b[39m=\u001b[39mresource_group_name,\n\u001b[1;32m     57\u001b[0m     workspace_name\u001b[39m=\u001b[39mworkspace_name,\n\u001b[1;32m     58\u001b[0m     \u001b[39m*\u001b[39m\u001b[39m*\u001b[39mkwargs,\n\u001b[1;32m     59\u001b[0m )\n\u001b[1;32m     60\u001b[0m workspace \u001b[39m=\u001b[39m \u001b[39mself\u001b[39m\u001b[39m.\u001b[39m_ml_client\u001b[39m.\u001b[39mworkspaces\u001b[39m.\u001b[39mget(name\u001b[39m=\u001b[39m\u001b[39mself\u001b[39m\u001b[39m.\u001b[39m_ml_client\u001b[39m.\u001b[39m_operation_scope\u001b[39m.\u001b[39mworkspace_name)\n\u001b[1;32m     61\u001b[0m \u001b[39mself\u001b[39m\u001b[39m.\u001b[39m_service_caller \u001b[39m=\u001b[39m _FlowServiceCallerFactory\u001b[39m.\u001b[39mget_instance(\n\u001b[1;32m     62\u001b[0m     workspace\u001b[39m=\u001b[39mworkspace,\n\u001b[1;32m     63\u001b[0m     credential\u001b[39m=\u001b[39m\u001b[39mself\u001b[39m\u001b[39m.\u001b[39m_ml_client\u001b[39m.\u001b[39m_credential,\n\u001b[1;32m     64\u001b[0m     operation_scope\u001b[39m=\u001b[39m\u001b[39mself\u001b[39m\u001b[39m.\u001b[39m_ml_client\u001b[39m.\u001b[39m_operation_scope,\n\u001b[1;32m     65\u001b[0m     \u001b[39m*\u001b[39m\u001b[39m*\u001b[39mkwargs,\n\u001b[1;32m     66\u001b[0m )\n",
      "File \u001b[0;32m/usr/local/lib/python3.10/site-packages/azure/ai/ml/_ml_client.py:161\u001b[0m, in \u001b[0;36mMLClient.__init__\u001b[0;34m(self, credential, subscription_id, resource_group_name, workspace_name, registry_name, **kwargs)\u001b[0m\n\u001b[1;32m    151\u001b[0m \u001b[39mdef\u001b[39;00m \u001b[39m__init__\u001b[39m(\n\u001b[1;32m    152\u001b[0m     \u001b[39mself\u001b[39m,\n\u001b[1;32m    153\u001b[0m     credential: TokenCredential,\n\u001b[0;32m   (...)\u001b[0m\n\u001b[1;32m    158\u001b[0m     \u001b[39m*\u001b[39m\u001b[39m*\u001b[39mkwargs: Any,\n\u001b[1;32m    159\u001b[0m ) \u001b[39m-\u001b[39m\u001b[39m>\u001b[39m \u001b[39mNone\u001b[39;00m:\n\u001b[1;32m    160\u001b[0m     \u001b[39mif\u001b[39;00m credential \u001b[39mis\u001b[39;00m \u001b[39mNone\u001b[39;00m:\n\u001b[0;32m--> 161\u001b[0m         \u001b[39mraise\u001b[39;00m \u001b[39mValueError\u001b[39;00m(\u001b[39m\"\u001b[39m\u001b[39mcredential can not be None\u001b[39m\u001b[39m\"\u001b[39m)\n\u001b[1;32m    163\u001b[0m     \u001b[39mif\u001b[39;00m registry_name \u001b[39mand\u001b[39;00m workspace_name:\n\u001b[1;32m    164\u001b[0m         \u001b[39mraise\u001b[39;00m ValidationException(\n\u001b[1;32m    165\u001b[0m             message\u001b[39m=\u001b[39m\u001b[39m\"\u001b[39m\u001b[39mBoth workspace_name and registry_name cannot be used together, for the ml_client.\u001b[39m\u001b[39m\"\u001b[39m,\n\u001b[1;32m    166\u001b[0m             no_personal_data_message\u001b[39m=\u001b[39m\u001b[39m\"\u001b[39m\u001b[39mBoth workspace_name and registry_name are used for ml_client.\u001b[39m\u001b[39m\"\u001b[39m,\n\u001b[1;32m    167\u001b[0m             target\u001b[39m=\u001b[39mErrorTarget\u001b[39m.\u001b[39mGENERAL,\n\u001b[1;32m    168\u001b[0m             error_category\u001b[39m=\u001b[39mErrorCategory\u001b[39m.\u001b[39mUSER_ERROR,\n\u001b[1;32m    169\u001b[0m         )\n",
      "\u001b[0;31mValueError\u001b[0m: credential can not be None"
     ]
    }
   ],
   "source": [
    "config_path = \"../config.json\"\n",
    "pf = PFClient()"
   ]
  },
  {
   "cell_type": "code",
   "execution_count": 16,
   "metadata": {},
   "outputs": [],
   "source": [
    "runtime = \"contoso-retail-runtime\"\n",
    "# load flow\n",
    "flow = \"../\"\n",
    "data = \"../data/testdata.jsonl\""
   ]
  },
  {
   "cell_type": "code",
   "execution_count": 51,
   "metadata": {},
   "outputs": [
    {
     "name": "stdout",
     "output_type": "stream",
     "text": [
      "2023_11_29_192747_base_run\n"
     ]
    }
   ],
   "source": [
    "# get current time stamp\n",
    "import datetime\n",
    "now = datetime.datetime.now()\n",
    "timestamp = now.strftime(\"%Y_%m_%d_%H%M%S\")\n",
    "run_name = timestamp+\"_base_run\"\n",
    "print(run_name)"
   ]
  },
  {
   "cell_type": "code",
   "execution_count": 52,
   "metadata": {},
   "outputs": [
    {
     "name": "stdout",
     "output_type": "stream",
     "text": [
      "Portal url: https://ml.azure.com/prompts/flow/bulkrun/run/2023_11_29_192747_base_run/details?wsid=/subscriptions/91d27443-f037-45d9-bb0c-428256992df6/resourceGroups/rg-contosooutdoors/providers/Microsoft.MachineLearningServices/workspaces/contoso-store\n",
      "name: 2023_11_29_192747_base_run\n",
      "created_on: '2023-11-30T01:28:08.060217+00:00'\n",
      "status: Preparing\n",
      "display_name: 2023_11_29_192747_base_run\n",
      "description: null\n",
      "tags: {}\n",
      "properties:\n",
      "  azureml.promptflow.runtime_name: contoso-retail-runtime\n",
      "  azureml.promptflow.runtime_version: 20231024.v1\n",
      "  azureml.promptflow.definition_file_name: flow.dag.yaml\n",
      "  azureml.promptflow.session_id: c284997311bc83cae62ec6a3be730410617ebd278b1f935c\n",
      "  azureml.promptflow.flow_lineage_id: 429e1e6d26688d24763c13521763a396c1f37974a875a82d49bb0ba9df1dc560\n",
      "  azureml.promptflow.flow_definition_datastore_name: workspaceblobstore\n",
      "  azureml.promptflow.flow_definition_blob_path: LocalUpload/e670f8bea96d6bc9411a962210f4ad32/contoso-trek/flow.dag.yaml\n",
      "  azureml.promptflow.inputs_mapping: '{\"customerId\":\"${data.customerId}\",\"question\":\"${data.question}\"}'\n",
      "  azureml.promptflow.snapshot_id: 100e4d57-1a7d-4bd5-98bb-1e0c9c2ab95f\n",
      "  _azureml.evaluation_run: promptflow.BatchRun\n",
      "creation_context:\n",
      "  userObjectId: 50c2d972-de75-441d-ab86-ce5b387ed84a\n",
      "  userPuId: 1003200035704ECF\n",
      "  userIdp: null\n",
      "  userAltSecId: null\n",
      "  userIss: https://sts.windows.net/72f988bf-86f1-41af-91ab-2d7cd011db47/\n",
      "  userTenantId: 72f988bf-86f1-41af-91ab-2d7cd011db47\n",
      "  userName: Cassie Breviu\n",
      "  upn: null\n",
      "start_time: null\n",
      "end_time: null\n",
      "duration: null\n",
      "portal_url: https://ml.azure.com/prompts/flow/bulkrun/run/2023_11_29_192747_base_run/details?wsid=/subscriptions/91d27443-f037-45d9-bb0c-428256992df6/resourceGroups/rg-contosooutdoors/providers/Microsoft.MachineLearningServices/workspaces/contoso-store\n",
      "data: azureml://datastores/workspaceblobstore/paths/LocalUpload/da7da0535829a1c714482f457f2a936e/testdata.jsonl\n",
      "data_portal_url: https://ml.azure.com/data/datastore/workspaceblobstore/edit?wsid=/subscriptions/91d27443-f037-45d9-bb0c-428256992df6/resourceGroups/rg-contosooutdoors/providers/Microsoft.MachineLearningServices/workspaces/contoso-store&activeFilePath=LocalUpload/da7da0535829a1c714482f457f2a936e/testdata.jsonl#browseTab\n",
      "output: null\n",
      "output_portal_url: null\n",
      "\n"
     ]
    }
   ],
   "source": [
    "# create run\n",
    "\n",
    "base_run = pf.run(\n",
    "    flow=flow,\n",
    "    data=data,\n",
    "    column_mapping={\n",
    "        # reference data\n",
    "        \"customerId\": \"${data.customerId}\",\n",
    "        \"question\": \"${data.question}\",\n",
    "    },\n",
    "    runtime=runtime,\n",
    "    # create a display name as current datetime\n",
    "    display_name=run_name,\n",
    "    name=run_name\n",
    ")\n",
    "print(base_run)"
   ]
  },
  {
   "cell_type": "code",
   "execution_count": 53,
   "metadata": {},
   "outputs": [
    {
     "name": "stdout",
     "output_type": "stream",
     "text": [
      "2023-11-30 01:28:14 +0000      45 promptflow-runtime INFO     [2023_11_29_192747_base_run] Receiving v2 bulk run request c8f5a295-bd0d-4594-ac97-b2732c83a75b: {\"flow_id\": \"2023_11_29_192747_base_run\", \"flow_run_id\": \"2023_11_29_192747_base_run\", \"flow_source\": {\"flow_source_type\": 1, \"flow_source_info\": {\"snapshot_id\": \"100e4d57-1a7d-4bd5-98bb-1e0c9c2ab95f\"}, \"flow_dag_file\": \"flow.dag.yaml\"}, \"connections\": \"**data_scrubbed**\", \"log_path\": \"https://stcontosoout446048492429.blob.core.windows.net/azureml/ExperimentRun/dcid.2023_11_29_192747_base_run/logs/azureml/executionlogs.txt?sv=2019-07-07&sr=b&sig=**data_scrubbed**&skoid=6a9cdc9c-374e-4dae-aeb3-39ff5126526d&sktid=72f988bf-86f1-41af-91ab-2d7cd011db47&skt=2023-11-29T22%3A56%3A02Z&ske=2023-12-01T07%3A06%3A02Z&sks=b&skv=2019-07-07&st=2023-11-30T01%3A18%3A10Z&se=2023-11-30T09%3A28%3A10Z&sp=rcw\", \"app_insights_instrumentation_key\": \"InstrumentationKey=**data_scrubbed**;IngestionEndpoint=https://eastus-6.in.applicationinsights.azure.com/;LiveEndpoint=https://eastus.livediagnostics.monitor.azure.com/\", \"data_inputs\": {\"data\": \"azureml://datastores/workspaceblobstore/paths/LocalUpload/da7da0535829a1c714482f457f2a936e/testdata.jsonl\"}, \"inputs_mapping\": {\"customerId\": \"${data.customerId}\", \"question\": \"${data.question}\"}, \"azure_storage_setting\": {\"azure_storage_mode\": 1, \"storage_account_name\": \"stcontosoout446048492429\", \"blob_container_name\": \"azureml-blobstore-4ab2cc7d-74ab-4a3f-9ce1-218668c55b0e\", \"flow_artifacts_root_path\": \"promptflow/PromptFlowArtifacts/2023_11_29_192747_base_run\", \"blob_container_sas_token\": \"?sv=2019-07-07&sr=c&sig=**data_scrubbed**&skoid=6a9cdc9c-374e-4dae-aeb3-39ff5126526d&sktid=72f988bf-86f1-41af-91ab-2d7cd011db47&skt=2023-11-30T01%3A28%3A12Z&ske=2023-12-07T01%3A28%3A11Z&sks=b&skv=2019-07-07&se=2023-12-07T01%3A28%3A11Z&sp=racwl\", \"output_datastore_name\": \"workspaceblobstore\"}}\n",
      "2023-11-30 01:28:14 +0000      45 promptflow-runtime INFO     Runtime version: 20231024.v1. PromptFlow version: 0.1.0b8.dev5\n",
      "2023-11-30 01:28:14 +0000      45 promptflow-runtime INFO     Running <function RunHistoryClient.get_run at 0x7effccc8d310>, 3 more tries to go.\n",
      "2023-11-30 01:28:14 +0000      45 promptflow-runtime INFO     Running <function RunHistoryClient.get_run at 0x7effccc8d280>, 3 more tries to go.\n",
      "2023-11-30 01:28:14 +0000      45 promptflow-runtime INFO     Running <function RunHistoryClient.update_run_status at 0x7effccc8d0d0>, 3 more tries to go.\n",
      "2023-11-30 01:28:14 +0000      45 promptflow-runtime INFO     Updating 2023_11_29_192747_base_run to Status.Preparing...\n",
      "2023-11-30 01:28:14 +0000      45 promptflow-runtime INFO     Starting to check process 3396 status for run 2023_11_29_192747_base_run\n",
      "2023-11-30 01:28:14 +0000      45 promptflow-runtime INFO     Start checking run status for bulk run 2023_11_29_192747_base_run\n",
      "2023-11-30 01:28:14 +0000      45 promptflow-runtime INFO     Start checking run status for run 2023_11_29_192747_base_run\n",
      "2023-11-30 01:28:14 +0000    3396 promptflow-runtime INFO     [45--3396] Start processing flowV2......\n",
      "2023-11-30 01:28:14 +0000    3396 promptflow-runtime INFO     Setting mlflow tracking uri...\n",
      "2023-11-30 01:28:15 +0000    3396 promptflow-runtime INFO     Validating 'AzureML Data Scientist' user authentication...\n",
      "2023-11-30 01:28:15 +0000    3396 promptflow-runtime INFO     Running <function RuntimeConfig.validate_by_get_dummy_run at 0x7effccc97790>, 5 more tries to go.\n",
      "2023-11-30 01:28:15 +0000    3396 promptflow-runtime INFO     Successfully validated 'AzureML Data Scientist' user authentication.\n",
      "2023-11-30 01:28:15 +0000    3396 promptflow-runtime INFO     Using AzureMLRunStorageV2\n",
      "2023-11-30 01:28:15 +0000    3396 promptflow-runtime INFO     Setting mlflow tracking uri to 'azureml://eastus.api.azureml.ms/mlflow/v1.0/subscriptions/91d27443-f037-45d9-bb0c-428256992df6/resourceGroups/rg-contosooutdoors/providers/Microsoft.MachineLearningServices/workspaces/contoso-store'\n",
      "2023-11-30 01:28:15 +0000    3396 promptflow-runtime INFO     Running <function MlflowHelper.get_host_creds at 0x7eff9917fb80>, 5 more tries to go.\n",
      "2023-11-30 01:28:15 +0000    3396 promptflow-runtime INFO     Initialized blob service client for AzureMLRunTracker.\n",
      "2023-11-30 01:28:15 +0000    3396 promptflow-runtime INFO     Setting mlflow tracking uri to 'azureml://eastus.api.azureml.ms/mlflow/v1.0/subscriptions/91d27443-f037-45d9-bb0c-428256992df6/resourceGroups/rg-contosooutdoors/providers/Microsoft.MachineLearningServices/workspaces/contoso-store'\n",
      "2023-11-30 01:28:15 +0000    3396 promptflow-runtime INFO     Running <function MlflowHelper.get_host_creds at 0x7eff9917fb80>, 5 more tries to go.\n",
      "2023-11-30 01:28:15 +0000    3396 promptflow-runtime INFO     Running <function SnapshotsClient.download_snapshot at 0x7effcbf0b700>, 3 more tries to go.\n",
      "2023-11-30 01:28:15 +0000    3396 promptflow-runtime INFO     Get snapshot sas url for 100e4d57-1a7d-4bd5-98bb-1e0c9c2ab95f...\n",
      "2023-11-30 01:28:22 +0000    3396 promptflow-runtime INFO     Downloading snapshot 100e4d57-1a7d-4bd5-98bb-1e0c9c2ab95f from uri https://stcontosoout446048492429.blob.core.windows.net/snapshotzips/contoso-store:4ab2cc7d-74ab-4a3f-9ce1-218668c55b0e:snapshotzip/100e4d57-1a7d-4bd5-98bb-1e0c9c2ab95f.zip...\n",
      "2023-11-30 01:28:22 +0000    3396 promptflow-runtime INFO     Downloaded file /service/app/46191/requests/2023_11_29_192747_base_run/100e4d57-1a7d-4bd5-98bb-1e0c9c2ab95f.zip with size 137015 for snapshot 100e4d57-1a7d-4bd5-98bb-1e0c9c2ab95f.\n",
      "2023-11-30 01:28:22 +0000    3396 promptflow-runtime INFO     Download snapshot 100e4d57-1a7d-4bd5-98bb-1e0c9c2ab95f completed.\n",
      "2023-11-30 01:28:22 +0000    3396 promptflow-runtime INFO     Running <function prepare_data at 0x7eff95cc73a0>, 3 more tries to go.\n",
      "2023-11-30 01:28:22 +0000    3396 promptflow-runtime INFO     Resolve data from url finished in 0.47282138280570507 seconds\n",
      "2023-11-30 01:28:23 +0000    3396 promptflow-runtime INFO     Flow run is not terminated, skip persisting flow run record.\n",
      "2023-11-30 01:28:23 +0000    3396 promptflow-runtime INFO     Starting the aml run '2023_11_29_192747_base_run'...\n",
      "2023-11-30 01:28:23 +0000    3396 execution.bulk     INFO     Using fork, process count: 5\n",
      "2023-11-30 01:28:23 +0000    3430 execution          INFO     Process 3430 started.\n",
      "2023-11-30 01:28:23 +0000    3434 execution          INFO     Process 3434 started.\n",
      "2023-11-30 01:28:23 +0000    3442 execution          INFO     Process 3442 started.\n",
      "2023-11-30 01:28:23 +0000    3438 execution          INFO     Process 3438 started.\n",
      "2023-11-30 01:28:23 +0000    3446 execution          INFO     Process 3446 started.\n",
      "2023-11-30 01:28:23 +0000    3396 execution          INFO     Process name: Process-40:3, Process id: 3430, Line number: 0 start execution.\n",
      "2023-11-30 01:28:23 +0000    3396 execution          INFO     Process name: Process-40:4, Process id: 3434, Line number: 1 start execution.\n",
      "2023-11-30 01:28:23 +0000    3396 promptflow-runtime INFO     Flow run is not terminated, skip persisting flow run record.\n",
      "2023-11-30 01:28:23 +0000    3396 execution          INFO     Process name: Process-40:5, Process id: 3442, Line number: 2 start execution.\n",
      "2023-11-30 01:28:23 +0000    3396 promptflow-runtime INFO     Flow run is not terminated, skip persisting flow run record.\n",
      "2023-11-30 01:28:23 +0000    3396 execution          INFO     Process name: Process-40:2, Process id: 3438, Line number: 3 start execution.\n",
      "2023-11-30 01:28:23 +0000    3396 promptflow-runtime INFO     Flow run is not terminated, skip persisting flow run record.\n",
      "2023-11-30 01:28:23 +0000    3396 execution          INFO     Process name: Process-40:6, Process id: 3446, Line number: 4 start execution.\n",
      "2023-11-30 01:28:24 +0000    3396 promptflow-runtime INFO     Flow run is not terminated, skip persisting flow run record.\n",
      "2023-11-30 01:28:24 +0000    3396 promptflow-runtime INFO     Flow run is not terminated, skip persisting flow run record.\n",
      "2023-11-30 01:28:25 +0000    3396 execution          INFO     Process name: Process-40:2, Process id: 3438, Line number: 3 completed.\n",
      "2023-11-30 01:28:25 +0000    3396 execution.bulk     INFO     Finished 1 / 5 lines.\n",
      "2023-11-30 01:28:25 +0000    3396 execution.bulk     INFO     Average execution time for completed lines: 1.5 seconds. Estimated time for incomplete lines: 6.0 seconds.\n",
      "2023-11-30 01:28:25 +0000    3396 execution          INFO     Process name: Process-40:5, Process id: 3442, Line number: 2 completed.\n",
      "2023-11-30 01:28:25 +0000    3396 execution          INFO     Process name: Process-40:6, Process id: 3446, Line number: 4 completed.\n",
      "2023-11-30 01:28:25 +0000    3396 execution.bulk     INFO     Finished 3 / 5 lines.\n",
      "2023-11-30 01:28:25 +0000    3396 execution.bulk     INFO     Finished 3 / 5 lines.\n",
      "2023-11-30 01:28:25 +0000    3396 execution.bulk     INFO     Average execution time for completed lines: 0.63 seconds. Estimated time for incomplete lines: 1.26 seconds.\n",
      "2023-11-30 01:28:25 +0000    3396 execution.bulk     INFO     Average execution time for completed lines: 0.64 seconds. Estimated time for incomplete lines: 1.28 seconds.\n",
      "2023-11-30 01:28:25 +0000    3396 execution          INFO     Process name: Process-40:3, Process id: 3430, Line number: 0 completed.\n",
      "2023-11-30 01:28:25 +0000    3396 execution.bulk     INFO     Finished 4 / 5 lines.\n",
      "2023-11-30 01:28:25 +0000    3396 execution.bulk     INFO     Average execution time for completed lines: 0.52 seconds. Estimated time for incomplete lines: 0.52 seconds.\n",
      "2023-11-30 01:28:25 +0000    3396 execution          INFO     Process name: Process-40:4, Process id: 3434, Line number: 1 completed.\n",
      "2023-11-30 01:28:25 +0000    3396 execution.bulk     INFO     Finished 5 / 5 lines.\n",
      "2023-11-30 01:28:25 +0000    3396 execution.bulk     INFO     Average execution time for completed lines: 0.42 seconds. Estimated time for incomplete lines: 0.0 seconds.\n",
      "2023-11-30 01:28:29 +0000    3396 execution.bulk     INFO     Upload status summary metrics for run 2023_11_29_192747_base_run finished in 3.0292283296585083 seconds\n",
      "2023-11-30 01:28:29 +0000    3396 promptflow-runtime INFO     Successfully write run properties {\"azureml.promptflow.total_tokens\": 6325, \"_azureml.evaluate_artifacts\": \"[{\\\"path\\\": \\\"instance_results.jsonl\\\", \\\"type\\\": \\\"table\\\"}]\"} with run id '2023_11_29_192747_base_run'\n",
      "2023-11-30 01:28:29 +0000    3396 execution.bulk     INFO     Upload RH properties for run 2023_11_29_192747_base_run finished in 0.12639474403113127 seconds\n",
      "2023-11-30 01:28:30 +0000    3396 promptflow-runtime INFO     Running <function AssetClient.create_unregistered_output at 0x7effcc0363a0>, 3 more tries to go.\n",
      "2023-11-30 01:28:30 +0000    3396 promptflow-runtime INFO     Creating unregistered output Asset for Run 2023_11_29_192747_base_run...\n",
      "2023-11-30 01:28:30 +0000    3396 promptflow-runtime INFO     Created debug_info Asset: azureml://locations/eastus/workspaces/4ab2cc7d-74ab-4a3f-9ce1-218668c55b0e/data/azureml_2023_11_29_192747_base_run_output_data_debug_info/versions/1\n",
      "2023-11-30 01:28:30 +0000    3396 promptflow-runtime INFO     Running <function AssetClient.create_unregistered_output at 0x7effcc0363a0>, 3 more tries to go.\n",
      "2023-11-30 01:28:30 +0000    3396 promptflow-runtime INFO     Creating unregistered output Asset for Run 2023_11_29_192747_base_run...\n",
      "2023-11-30 01:28:30 +0000    3396 promptflow-runtime INFO     Created flow_outputs output Asset: azureml://locations/eastus/workspaces/4ab2cc7d-74ab-4a3f-9ce1-218668c55b0e/data/azureml_2023_11_29_192747_base_run_output_data_flow_outputs/versions/1\n",
      "2023-11-30 01:28:30 +0000    3396 promptflow-runtime INFO     Running <function ArtifactClient.register_artifact at 0x7effcc036670>, 3 more tries to go.\n",
      "2023-11-30 01:28:30 +0000    3396 promptflow-runtime INFO     Creating Artifact for Run 2023_11_29_192747_base_run...\n",
      "2023-11-30 01:28:30 +0000    3396 promptflow-runtime INFO     Created instance_results.jsonl Artifact.\n",
      "2023-11-30 01:28:30 +0000    3396 promptflow-runtime INFO     Running <function RunHistoryClient.patch_run at 0x7effccc85f70>, 3 more tries to go.\n",
      "2023-11-30 01:28:30 +0000    3396 promptflow-runtime INFO     Patching 2023_11_29_192747_base_run...\n",
      "2023-11-30 01:28:31 +0000    3396 promptflow-runtime INFO     Ending the aml run '2023_11_29_192747_base_run' with status 'Completed'...\n",
      "2023-11-30 01:28:31 +0000      45 promptflow-runtime INFO     Process 3396 finished\n",
      "2023-11-30 01:28:31 +0000      45 promptflow-runtime INFO     [45] Child process finished!\n",
      "2023-11-30 01:28:31 +0000      45 promptflow-runtime INFO     [2023_11_29_192747_base_run] End processing bulk run\n",
      "======= Run Summary =======\n",
      "Run name: \"2023_11_29_192747_base_run\"\n",
      "Run status: \"Completed\"\n",
      "Start time: \"2023-11-30 01:28:23.431543+00:00\"\n",
      "Duration: \"0:00:07.703187\"\n",
      "Run url: \"https://ml.azure.com/prompts/flow/bulkrun/run/2023_11_29_192747_base_run/details?wsid=/subscriptions/91d27443-f037-45d9-bb0c-428256992df6/resourceGroups/rg-contosooutdoors/providers/Microsoft.MachineLearningServices/workspaces/contoso-store\""
     ]
    },
    {
     "data": {
      "text/plain": [
       "<promptflow._sdk.entities._run.Run at 0x1ac3f1bc580>"
      ]
     },
     "execution_count": 53,
     "metadata": {},
     "output_type": "execute_result"
    }
   ],
   "source": [
    "pf.stream(base_run)"
   ]
  },
  {
   "cell_type": "code",
   "execution_count": 54,
   "metadata": {},
   "outputs": [
    {
     "data": {
      "text/html": [
       "<div>\n",
       "<style scoped>\n",
       "    .dataframe tbody tr th:only-of-type {\n",
       "        vertical-align: middle;\n",
       "    }\n",
       "\n",
       "    .dataframe tbody tr th {\n",
       "        vertical-align: top;\n",
       "    }\n",
       "\n",
       "    .dataframe thead th {\n",
       "        text-align: right;\n",
       "    }\n",
       "</style>\n",
       "<table border=\"1\" class=\"dataframe\">\n",
       "  <thead>\n",
       "    <tr style=\"text-align: right;\">\n",
       "      <th></th>\n",
       "      <th>inputs.chat_history</th>\n",
       "      <th>inputs.customerId</th>\n",
       "      <th>inputs.question</th>\n",
       "      <th>inputs.line_number</th>\n",
       "      <th>outputs.answer</th>\n",
       "      <th>outputs.context</th>\n",
       "    </tr>\n",
       "    <tr>\n",
       "      <th>outputs.line_number</th>\n",
       "      <th></th>\n",
       "      <th></th>\n",
       "      <th></th>\n",
       "      <th></th>\n",
       "      <th></th>\n",
       "      <th></th>\n",
       "    </tr>\n",
       "  </thead>\n",
       "  <tbody>\n",
       "    <tr>\n",
       "      <th>3</th>\n",
       "      <td>[]</td>\n",
       "      <td>6</td>\n",
       "      <td>Do you have any hiking boots?</td>\n",
       "      <td>3</td>\n",
       "      <td>Hi Emily! Yes, we have some great hiking boots...</td>\n",
       "      <td>[{'id': '4', 'title': 'TrekReady Hiking Boots'...</td>\n",
       "    </tr>\n",
       "    <tr>\n",
       "      <th>2</th>\n",
       "      <td>[]</td>\n",
       "      <td>3</td>\n",
       "      <td>Can you tell me about your selection of tents?</td>\n",
       "      <td>2</td>\n",
       "      <td>Hi Michael Johnson! As a Base member, you've g...</td>\n",
       "      <td>[{'id': '8', 'title': 'Alpine Explorer Tent', ...</td>\n",
       "    </tr>\n",
       "    <tr>\n",
       "      <th>4</th>\n",
       "      <td>[]</td>\n",
       "      <td>2</td>\n",
       "      <td>What gear do you recommend for hiking?</td>\n",
       "      <td>4</td>\n",
       "      <td>Hi Jane Doe, great to hear from you! As a Gold...</td>\n",
       "      <td>[{'id': '16', 'title': 'TrailLite Daypack', 'c...</td>\n",
       "    </tr>\n",
       "    <tr>\n",
       "      <th>0</th>\n",
       "      <td>[]</td>\n",
       "      <td>4</td>\n",
       "      <td>tell me about your hiking jackets</td>\n",
       "      <td>0</td>\n",
       "      <td>Hi Sarah Lee! 😊 We offer two fabulous hiking j...</td>\n",
       "      <td>[{'id': '3', 'title': 'Summit Breeze Jacket', ...</td>\n",
       "    </tr>\n",
       "    <tr>\n",
       "      <th>1</th>\n",
       "      <td>[]</td>\n",
       "      <td>1</td>\n",
       "      <td>Do you have any climbing gear?</td>\n",
       "      <td>1</td>\n",
       "      <td>Hello John! As a Base member, you can gear up ...</td>\n",
       "      <td>[{'id': '3', 'title': 'Summit Breeze Jacket', ...</td>\n",
       "    </tr>\n",
       "  </tbody>\n",
       "</table>\n",
       "</div>"
      ],
      "text/plain": [
       "                    inputs.chat_history inputs.customerId  \\\n",
       "outputs.line_number                                         \n",
       "3                                    []                 6   \n",
       "2                                    []                 3   \n",
       "4                                    []                 2   \n",
       "0                                    []                 4   \n",
       "1                                    []                 1   \n",
       "\n",
       "                                                    inputs.question  \\\n",
       "outputs.line_number                                                   \n",
       "3                                     Do you have any hiking boots?   \n",
       "2                    Can you tell me about your selection of tents?   \n",
       "4                            What gear do you recommend for hiking?   \n",
       "0                                 tell me about your hiking jackets   \n",
       "1                                    Do you have any climbing gear?   \n",
       "\n",
       "                     inputs.line_number  \\\n",
       "outputs.line_number                       \n",
       "3                                     3   \n",
       "2                                     2   \n",
       "4                                     4   \n",
       "0                                     0   \n",
       "1                                     1   \n",
       "\n",
       "                                                        outputs.answer  \\\n",
       "outputs.line_number                                                      \n",
       "3                    Hi Emily! Yes, we have some great hiking boots...   \n",
       "2                    Hi Michael Johnson! As a Base member, you've g...   \n",
       "4                    Hi Jane Doe, great to hear from you! As a Gold...   \n",
       "0                    Hi Sarah Lee! 😊 We offer two fabulous hiking j...   \n",
       "1                    Hello John! As a Base member, you can gear up ...   \n",
       "\n",
       "                                                       outputs.context  \n",
       "outputs.line_number                                                     \n",
       "3                    [{'id': '4', 'title': 'TrekReady Hiking Boots'...  \n",
       "2                    [{'id': '8', 'title': 'Alpine Explorer Tent', ...  \n",
       "4                    [{'id': '16', 'title': 'TrailLite Daypack', 'c...  \n",
       "0                    [{'id': '3', 'title': 'Summit Breeze Jacket', ...  \n",
       "1                    [{'id': '3', 'title': 'Summit Breeze Jacket', ...  "
      ]
     },
     "execution_count": 54,
     "metadata": {},
     "output_type": "execute_result"
    }
   ],
   "source": [
    "details = pf.get_details(base_run)\n",
    "details.head(10)"
   ]
  },
  {
   "cell_type": "markdown",
   "metadata": {},
   "source": [
    "# Cloud Eval run on Json Data"
   ]
  },
  {
   "cell_type": "code",
   "execution_count": 55,
   "metadata": {},
   "outputs": [
    {
     "name": "stdout",
     "output_type": "stream",
     "text": [
      "2023_11_29_192747_eval_run\n",
      "Portal url: https://ml.azure.com/prompts/flow/bulkrun/run/2023_11_29_192747_eval_run/details?wsid=/subscriptions/91d27443-f037-45d9-bb0c-428256992df6/resourceGroups/rg-contosooutdoors/providers/Microsoft.MachineLearningServices/workspaces/contoso-store\n"
     ]
    }
   ],
   "source": [
    "eval_flow = \"../eval/multi_flow/\"\n",
    "data = \"../data/testdata.jsonl\"\n",
    "run_name = timestamp+\"_eval_run\"\n",
    "print(run_name)\n",
    "\n",
    "eval_run_variant = pf.run(\n",
    "    flow=eval_flow,\n",
    "    data=data,  # path to the data file\n",
    "    run=base_run,  # use run as the variant\n",
    "    column_mapping={\n",
    "        # reference data\n",
    "        \"customerId\": \"${data.customerId}\",\n",
    "        \"question\": \"${data.question}\",\n",
    "        \"context\": \"${run.outputs.context}\",\n",
    "        # reference the run's output\n",
    "        \"answer\": \"${run.outputs.answer}\",\n",
    "    },\n",
    "    runtime=runtime,\n",
    "    display_name=run_name,\n",
    "    name=run_name\n",
    ")"
   ]
  },
  {
   "cell_type": "code",
   "execution_count": 56,
   "metadata": {},
   "outputs": [
    {
     "name": "stdout",
     "output_type": "stream",
     "text": [
      "2023-11-30 01:30:39 +0000     100 promptflow-runtime INFO     [2023_11_29_192747_eval_run] Receiving v2 bulk run request 63aad1da-c437-47cf-94c4-3b93dea6288d: {\"flow_id\": \"2023_11_29_192747_eval_run\", \"flow_run_id\": \"2023_11_29_192747_eval_run\", \"flow_source\": {\"flow_source_type\": 1, \"flow_source_info\": {\"snapshot_id\": \"a6a9f24f-e979-4ef7-83e4-565b8ea540c7\"}, \"flow_dag_file\": \"flow.dag.yaml\"}, \"connections\": \"**data_scrubbed**\", \"log_path\": \"https://stcontosoout446048492429.blob.core.windows.net/azureml/ExperimentRun/dcid.2023_11_29_192747_eval_run/logs/azureml/executionlogs.txt?sv=2019-07-07&sr=b&sig=**data_scrubbed**&skoid=6a9cdc9c-374e-4dae-aeb3-39ff5126526d&sktid=72f988bf-86f1-41af-91ab-2d7cd011db47&skt=2023-11-29T22%3A56%3A02Z&ske=2023-12-01T07%3A06%3A02Z&sks=b&skv=2019-07-07&st=2023-11-30T01%3A20%3A38Z&se=2023-11-30T09%3A30%3A38Z&sp=rcw\", \"app_insights_instrumentation_key\": \"InstrumentationKey=**data_scrubbed**;IngestionEndpoint=https://eastus-6.in.applicationinsights.azure.com/;LiveEndpoint=https://eastus.livediagnostics.monitor.azure.com/\", \"data_inputs\": {\"data\": \"azureml://datastores/workspaceblobstore/paths/LocalUpload/da7da0535829a1c714482f457f2a936e/testdata.jsonl\", \"run.outputs\": \"azureml:/subscriptions/91d27443-f037-45d9-bb0c-428256992df6/resourceGroups/rg-contosooutdoors/providers/Microsoft.MachineLearningServices/workspaces/contoso-store/data/azureml_2023_11_29_192747_base_run_output_data_flow_outputs/versions/1\"}, \"inputs_mapping\": {\"customerId\": \"${data.customerId}\", \"question\": \"${data.question}\", \"context\": \"${run.outputs.context}\", \"answer\": \"${run.outputs.answer}\"}, \"azure_storage_setting\": {\"azure_storage_mode\": 1, \"storage_account_name\": \"stcontosoout446048492429\", \"blob_container_name\": \"azureml-blobstore-4ab2cc7d-74ab-4a3f-9ce1-218668c55b0e\", \"flow_artifacts_root_path\": \"promptflow/PromptFlowArtifacts/2023_11_29_192747_eval_run\", \"blob_container_sas_token\": \"?sv=2019-07-07&sr=c&sig=**data_scrubbed**&skoid=6a9cdc9c-374e-4dae-aeb3-39ff5126526d&sktid=72f988bf-86f1-41af-91ab-2d7cd011db47&skt=2023-11-30T01%3A30%3A38Z&ske=2023-12-07T01%3A30%3A38Z&sks=b&skv=2019-07-07&se=2023-12-07T01%3A30%3A38Z&sp=racwl\", \"output_datastore_name\": \"workspaceblobstore\"}}\n",
      "2023-11-30 01:30:39 +0000     100 promptflow-runtime INFO     Runtime version: 20231024.v1. PromptFlow version: 0.1.0b8.dev5\n",
      "2023-11-30 01:30:39 +0000     100 promptflow-runtime INFO     Running <function RunHistoryClient.get_run at 0x7fe5257dc310>, 3 more tries to go.\n",
      "2023-11-30 01:30:39 +0000     100 promptflow-runtime INFO     Running <function RunHistoryClient.get_run at 0x7fe5257dc280>, 3 more tries to go.\n",
      "2023-11-30 01:30:39 +0000     100 promptflow-runtime INFO     Running <function RunHistoryClient.update_run_status at 0x7fe5257dc0d0>, 3 more tries to go.\n",
      "2023-11-30 01:30:39 +0000     100 promptflow-runtime INFO     Updating 2023_11_29_192747_eval_run to Status.Preparing...\n",
      "2023-11-30 01:30:40 +0000     100 promptflow-runtime INFO     Starting to check process 3530 status for run 2023_11_29_192747_eval_run\n",
      "2023-11-30 01:30:40 +0000     100 promptflow-runtime INFO     Start checking run status for bulk run 2023_11_29_192747_eval_run\n",
      "2023-11-30 01:30:40 +0000     100 promptflow-runtime INFO     Start checking run status for run 2023_11_29_192747_eval_run\n",
      "2023-11-30 01:30:40 +0000    3530 promptflow-runtime INFO     [100--3530] Start processing flowV2......\n",
      "2023-11-30 01:30:40 +0000    3530 promptflow-runtime INFO     Setting mlflow tracking uri...\n",
      "2023-11-30 01:30:40 +0000    3530 promptflow-runtime INFO     Validating 'AzureML Data Scientist' user authentication...\n",
      "2023-11-30 01:30:40 +0000    3530 promptflow-runtime INFO     Running <function RuntimeConfig.validate_by_get_dummy_run at 0x7fe5257e6790>, 5 more tries to go.\n",
      "2023-11-30 01:30:40 +0000    3530 promptflow-runtime INFO     Successfully validated 'AzureML Data Scientist' user authentication.\n",
      "2023-11-30 01:30:40 +0000    3530 promptflow-runtime INFO     Using AzureMLRunStorageV2\n",
      "2023-11-30 01:30:40 +0000    3530 promptflow-runtime INFO     Setting mlflow tracking uri to 'azureml://eastus.api.azureml.ms/mlflow/v1.0/subscriptions/91d27443-f037-45d9-bb0c-428256992df6/resourceGroups/rg-contosooutdoors/providers/Microsoft.MachineLearningServices/workspaces/contoso-store'\n",
      "2023-11-30 01:30:40 +0000    3530 promptflow-runtime INFO     Running <function MlflowHelper.get_host_creds at 0x7fe4f1cc4b80>, 5 more tries to go.\n",
      "2023-11-30 01:30:41 +0000    3530 promptflow-runtime INFO     Initialized blob service client for AzureMLRunTracker.\n",
      "2023-11-30 01:30:41 +0000    3530 promptflow-runtime INFO     Setting mlflow tracking uri to 'azureml://eastus.api.azureml.ms/mlflow/v1.0/subscriptions/91d27443-f037-45d9-bb0c-428256992df6/resourceGroups/rg-contosooutdoors/providers/Microsoft.MachineLearningServices/workspaces/contoso-store'\n",
      "2023-11-30 01:30:41 +0000    3530 promptflow-runtime INFO     Running <function MlflowHelper.get_host_creds at 0x7fe4f1cc4b80>, 5 more tries to go.\n",
      "2023-11-30 01:30:41 +0000    3530 promptflow-runtime INFO     Running <function SnapshotsClient.download_snapshot at 0x7fe524a8a0d0>, 3 more tries to go.\n",
      "2023-11-30 01:30:41 +0000    3530 promptflow-runtime INFO     Get snapshot sas url for a6a9f24f-e979-4ef7-83e4-565b8ea540c7...\n",
      "2023-11-30 01:30:47 +0000    3530 promptflow-runtime INFO     Downloading snapshot a6a9f24f-e979-4ef7-83e4-565b8ea540c7 from uri https://stcontosoout446048492429.blob.core.windows.net/snapshotzips/contoso-store:4ab2cc7d-74ab-4a3f-9ce1-218668c55b0e:snapshotzip/a6a9f24f-e979-4ef7-83e4-565b8ea540c7.zip...\n",
      "2023-11-30 01:30:47 +0000    3530 promptflow-runtime INFO     Downloaded file /service/app/45135/requests/2023_11_29_192747_eval_run/a6a9f24f-e979-4ef7-83e4-565b8ea540c7.zip with size 31573 for snapshot a6a9f24f-e979-4ef7-83e4-565b8ea540c7.\n",
      "2023-11-30 01:30:47 +0000    3530 promptflow-runtime INFO     Download snapshot a6a9f24f-e979-4ef7-83e4-565b8ea540c7 completed.\n",
      "2023-11-30 01:30:47 +0000    3530 promptflow-runtime INFO     Running <function prepare_data at 0x7fe4ee80c3a0>, 3 more tries to go.\n",
      "2023-11-30 01:30:48 +0000    3530 promptflow-runtime INFO     Resolve data from url finished in 0.48907729098573327 seconds\n",
      "2023-11-30 01:30:48 +0000    3530 promptflow-runtime INFO     Running <function prepare_data at 0x7fe4ee80c3a0>, 3 more tries to go.\n",
      "2023-11-30 01:30:48 +0000    3530 promptflow-runtime INFO     Resolve data from url finished in 0.6203559511341155 seconds\n",
      "2023-11-30 01:30:48 +0000    3530 promptflow-runtime INFO     Flow run is not terminated, skip persisting flow run record.\n",
      "2023-11-30 01:30:48 +0000    3530 promptflow-runtime INFO     Starting the aml run '2023_11_29_192747_eval_run'...\n",
      "2023-11-30 01:30:49 +0000    3530 execution.bulk     INFO     Using fork, process count: 5\n",
      "2023-11-30 01:30:49 +0000    3561 execution          INFO     Process 3561 started.\n",
      "2023-11-30 01:30:49 +0000    3567 execution          INFO     Process 3567 started.\n",
      "2023-11-30 01:30:49 +0000    3572 execution          INFO     Process 3572 started.\n",
      "2023-11-30 01:30:49 +0000    3576 execution          INFO     Process 3576 started.\n",
      "2023-11-30 01:30:49 +0000    3580 execution          INFO     Process 3580 started.\n",
      "2023-11-30 01:30:49 +0000    3530 execution          INFO     Process name: Process-50:2, Process id: 3561, Line number: 0 start execution.\n",
      "2023-11-30 01:30:49 +0000    3530 execution          INFO     Process name: Process-50:3, Process id: 3567, Line number: 1 start execution.\n",
      "2023-11-30 01:30:49 +0000    3530 promptflow-runtime INFO     Flow run is not terminated, skip persisting flow run record.\n",
      "2023-11-30 01:30:49 +0000    3530 execution          INFO     Process name: Process-50:4, Process id: 3572, Line number: 2 start execution.\n",
      "2023-11-30 01:30:49 +0000    3530 promptflow-runtime INFO     Flow run is not terminated, skip persisting flow run record.\n",
      "2023-11-30 01:30:49 +0000    3530 execution          INFO     Process name: Process-50:5, Process id: 3576, Line number: 3 start execution.\n",
      "2023-11-30 01:30:49 +0000    3530 promptflow-runtime INFO     Flow run is not terminated, skip persisting flow run record.\n",
      "2023-11-30 01:30:49 +0000    3530 execution          INFO     Process name: Process-50:6, Process id: 3580, Line number: 4 start execution.\n",
      "2023-11-30 01:30:49 +0000    3530 promptflow-runtime INFO     Flow run is not terminated, skip persisting flow run record.\n",
      "2023-11-30 01:30:49 +0000    3530 promptflow-runtime INFO     Flow run is not terminated, skip persisting flow run record.\n",
      "2023-11-30 01:30:49 +0000    3561 execution          WARNING  [groundedness_score in line 0 (index starts from 0)] stderr> Exception occurs: RateLimitError: Requests to the ChatCompletions_Create Operation under Azure OpenAI API version 2023-07-01-preview have exceeded call rate limit of your current OpenAI S0 pricing tier. Please retry after 10 seconds. Please go here: https://aka.ms/oai/quotaincrease if you would like to further increase the default rate limit.\n",
      "2023-11-30 01:30:49 +0000    3572 execution          WARNING  [groundedness_score in line 2 (index starts from 0)] stderr> Exception occurs: RateLimitError: Requests to the ChatCompletions_Create Operation under Azure OpenAI API version 2023-07-01-preview have exceeded call rate limit of your current OpenAI S0 pricing tier. Please retry after 10 seconds. Please go here: https://aka.ms/oai/quotaincrease if you would like to further increase the default rate limit.\n",
      "2023-11-30 01:30:49 +0000    3561 execution          WARNING  [relevance_score in line 0 (index starts from 0)] stderr> Exception occurs: RateLimitError: Requests to the ChatCompletions_Create Operation under Azure OpenAI API version 2023-07-01-preview have exceeded call rate limit of your current OpenAI S0 pricing tier. Please retry after 10 seconds. Please go here: https://aka.ms/oai/quotaincrease if you would like to further increase the default rate limit.\n",
      "2023-11-30 01:30:49 +0000    3572 execution          WARNING  [groundedness_score in line 2 (index starts from 0)] stderr> RateLimitError #0, Retry-After=10, Back off 10.0 seconds for retry.\n",
      "2023-11-30 01:30:49 +0000    3561 execution          WARNING  [groundedness_score in line 0 (index starts from 0)] stderr> RateLimitError #0, Retry-After=10, Back off 10.0 seconds for retry.\n",
      "2023-11-30 01:30:49 +0000    3567 execution          WARNING  [groundedness_score in line 1 (index starts from 0)] stderr> Exception occurs: RateLimitError: Requests to the ChatCompletions_Create Operation under Azure OpenAI API version 2023-07-01-preview have exceeded call rate limit of your current OpenAI S0 pricing tier. Please retry after 10 seconds. Please go here: https://aka.ms/oai/quotaincrease if you would like to further increase the default rate limit.\n",
      "2023-11-30 01:30:49 +0000    3561 execution          WARNING  [relevance_score in line 0 (index starts from 0)] stderr> RateLimitError #0, Retry-After=10, Back off 10.0 seconds for retry.\n",
      "2023-11-30 01:30:49 +0000    3567 execution          WARNING  [relevance_score in line 1 (index starts from 0)] stderr> Exception occurs: RateLimitError: Requests to the ChatCompletions_Create Operation under Azure OpenAI API version 2023-07-01-preview have exceeded call rate limit of your current OpenAI S0 pricing tier. Please retry after 10 seconds. Please go here: https://aka.ms/oai/quotaincrease if you would like to further increase the default rate limit.\n",
      "2023-11-30 01:30:49 +0000    3567 execution          WARNING  [groundedness_score in line 1 (index starts from 0)] stderr> RateLimitError #0, Retry-After=10, Back off 10.0 seconds for retry.\n",
      "2023-11-30 01:30:50 +0000    3567 execution          WARNING  [relevance_score in line 1 (index starts from 0)] stderr> RateLimitError #0, Retry-After=10, Back off 10.0 seconds for retry.\n",
      "2023-11-30 01:30:50 +0000    3576 execution          WARNING  [groundedness_score in line 3 (index starts from 0)] stderr> Exception occurs: RateLimitError: Requests to the ChatCompletions_Create Operation under Azure OpenAI API version 2023-07-01-preview have exceeded call rate limit of your current OpenAI S0 pricing tier. Please retry after 10 seconds. Please go here: https://aka.ms/oai/quotaincrease if you would like to further increase the default rate limit.\n",
      "2023-11-30 01:30:50 +0000    3576 execution          WARNING  [groundedness_score in line 3 (index starts from 0)] stderr> RateLimitError #0, Retry-After=10, Back off 10.0 seconds for retry.\n",
      "2023-11-30 01:30:50 +0000    3580 execution          WARNING  [groundedness_score in line 4 (index starts from 0)] stderr> Exception occurs: RateLimitError: Requests to the ChatCompletions_Create Operation under Azure OpenAI API version 2023-07-01-preview have exceeded call rate limit of your current OpenAI S0 pricing tier. Please retry after 10 seconds. Please go here: https://aka.ms/oai/quotaincrease if you would like to further increase the default rate limit.\n",
      "2023-11-30 01:30:50 +0000    3580 execution          WARNING  [groundedness_score in line 4 (index starts from 0)] stderr> RateLimitError #0, Retry-After=10, Back off 10.0 seconds for retry.\n",
      "2023-11-30 01:30:50 +0000    3576 execution          WARNING  [relevance_score in line 3 (index starts from 0)] stderr> Exception occurs: RateLimitError: Requests to the ChatCompletions_Create Operation under Azure OpenAI API version 2023-07-01-preview have exceeded call rate limit of your current OpenAI S0 pricing tier. Please retry after 9 seconds. Please go here: https://aka.ms/oai/quotaincrease if you would like to further increase the default rate limit.\n",
      "2023-11-30 01:30:50 +0000    3576 execution          WARNING  [relevance_score in line 3 (index starts from 0)] stderr> RateLimitError #0, Retry-After=9, Back off 9.0 seconds for retry.\n",
      "2023-11-30 01:30:50 +0000    3580 execution          WARNING  [relevance_score in line 4 (index starts from 0)] stderr> Exception occurs: RateLimitError: Requests to the ChatCompletions_Create Operation under Azure OpenAI API version 2023-07-01-preview have exceeded call rate limit of your current OpenAI S0 pricing tier. Please retry after 9 seconds. Please go here: https://aka.ms/oai/quotaincrease if you would like to further increase the default rate limit.\n",
      "2023-11-30 01:30:50 +0000    3580 execution          WARNING  [relevance_score in line 4 (index starts from 0)] stderr> RateLimitError #0, Retry-After=9, Back off 9.0 seconds for retry.\n",
      "2023-11-30 01:30:50 +0000    3572 execution          WARNING  [relevance_score in line 2 (index starts from 0)] stderr> Exception occurs: RateLimitError: Requests to the ChatCompletions_Create Operation under Azure OpenAI API version 2023-07-01-preview have exceeded call rate limit of your current OpenAI S0 pricing tier. Please retry after 9 seconds. Please go here: https://aka.ms/oai/quotaincrease if you would like to further increase the default rate limit.\n",
      "2023-11-30 01:30:50 +0000    3572 execution          WARNING  [relevance_score in line 2 (index starts from 0)] stderr> RateLimitError #0, Retry-After=9, Back off 9.0 seconds for retry.\n",
      "2023-11-30 01:31:00 +0000     100 promptflow-runtime INFO     Running <function RunHistoryClient.get_run at 0x7fe5257dc310>, 3 more tries to go.\n",
      "2023-11-30 01:31:00 +0000     100 promptflow-runtime INFO     Running <function RunHistoryClient.get_run at 0x7fe5257dc280>, 3 more tries to go.\n",
      "2023-11-30 01:31:00 +0000     100 promptflow-runtime INFO     Run 2023_11_29_192747_eval_run is in progress, Execution status: Running\n",
      "2023-11-30 01:31:00 +0000    3530 execution          INFO     Process name: Process-50:3, Process id: 3567, Line number: 1 completed.\n",
      "2023-11-30 01:31:00 +0000    3530 execution.bulk     INFO     Finished 1 / 5 lines.\n",
      "2023-11-30 01:31:00 +0000    3530 execution.bulk     INFO     Average execution time for completed lines: 11.45 seconds. Estimated time for incomplete lines: 45.8 seconds.\n",
      "2023-11-30 01:31:00 +0000    3530 execution          INFO     Process name: Process-50:5, Process id: 3576, Line number: 3 completed.\n",
      "2023-11-30 01:31:00 +0000    3530 execution.bulk     INFO     Finished 2 / 5 lines.\n",
      "2023-11-30 01:31:00 +0000    3530 execution.bulk     INFO     Average execution time for completed lines: 5.76 seconds. Estimated time for incomplete lines: 17.28 seconds.\n",
      "2023-11-30 01:31:01 +0000    3530 execution          INFO     Process name: Process-50:6, Process id: 3580, Line number: 4 completed.\n",
      "2023-11-30 01:31:01 +0000    3530 execution.bulk     INFO     Finished 3 / 5 lines.\n",
      "2023-11-30 01:31:01 +0000    3530 execution.bulk     INFO     Average execution time for completed lines: 3.91 seconds. Estimated time for incomplete lines: 7.82 seconds.\n",
      "2023-11-30 01:31:01 +0000    3530 execution          INFO     Process name: Process-50:4, Process id: 3572, Line number: 2 completed.\n",
      "2023-11-30 01:31:01 +0000    3530 execution.bulk     INFO     Finished 4 / 5 lines.\n",
      "2023-11-30 01:31:01 +0000    3530 execution.bulk     INFO     Average execution time for completed lines: 2.96 seconds. Estimated time for incomplete lines: 2.96 seconds.\n",
      "2023-11-30 01:31:01 +0000    3530 execution          INFO     Process name: Process-50:2, Process id: 3561, Line number: 0 completed.\n",
      "2023-11-30 01:31:01 +0000    3530 execution.bulk     INFO     Finished 5 / 5 lines.\n",
      "2023-11-30 01:31:01 +0000    3530 execution.bulk     INFO     Average execution time for completed lines: 2.43 seconds. Estimated time for incomplete lines: 0.0 seconds.\n",
      "2023-11-30 01:31:02 +0000    3530 execution          INFO     Executing aggregation nodes...\n",
      "2023-11-30 01:31:02 +0000    3530 execution          INFO     Finish executing aggregation nodes.\n",
      "2023-11-30 01:31:07 +0000    3530 execution.bulk     INFO     Upload status summary metrics for run 2023_11_29_192747_eval_run finished in 4.911500142887235 seconds\n",
      "2023-11-30 01:31:10 +0000    3530 execution.bulk     INFO     Upload metrics for run 2023_11_29_192747_eval_run finished in 2.8606833051890135 seconds\n",
      "2023-11-30 01:31:10 +0000    3530 promptflow-runtime INFO     Successfully write run properties {\"azureml.promptflow.total_tokens\": 18293, \"_azureml.evaluate_artifacts\": \"[{\\\"path\\\": \\\"instance_results.jsonl\\\", \\\"type\\\": \\\"table\\\"}]\"} with run id '2023_11_29_192747_eval_run'\n",
      "2023-11-30 01:31:10 +0000    3530 execution.bulk     INFO     Upload RH properties for run 2023_11_29_192747_eval_run finished in 0.09041868476197124 seconds\n",
      "2023-11-30 01:31:10 +0000    3530 promptflow-runtime INFO     Running <function AssetClient.create_unregistered_output at 0x7fe524bae940>, 3 more tries to go.\n",
      "2023-11-30 01:31:10 +0000    3530 promptflow-runtime INFO     Creating unregistered output Asset for Run 2023_11_29_192747_eval_run...\n",
      "2023-11-30 01:31:10 +0000    3530 promptflow-runtime INFO     Created debug_info Asset: azureml://locations/eastus/workspaces/4ab2cc7d-74ab-4a3f-9ce1-218668c55b0e/data/azureml_2023_11_29_192747_eval_run_output_data_debug_info/versions/1\n",
      "2023-11-30 01:31:10 +0000    3530 promptflow-runtime INFO     Running <function AssetClient.create_unregistered_output at 0x7fe524bae940>, 3 more tries to go.\n",
      "2023-11-30 01:31:10 +0000    3530 promptflow-runtime INFO     Creating unregistered output Asset for Run 2023_11_29_192747_eval_run...\n",
      "2023-11-30 01:31:10 +0000    3530 promptflow-runtime INFO     Created flow_outputs output Asset: azureml://locations/eastus/workspaces/4ab2cc7d-74ab-4a3f-9ce1-218668c55b0e/data/azureml_2023_11_29_192747_eval_run_output_data_flow_outputs/versions/1\n",
      "2023-11-30 01:31:10 +0000    3530 promptflow-runtime INFO     Running <function ArtifactClient.register_artifact at 0x7fe524baec10>, 3 more tries to go.\n",
      "2023-11-30 01:31:10 +0000    3530 promptflow-runtime INFO     Creating Artifact for Run 2023_11_29_192747_eval_run...\n",
      "2023-11-30 01:31:11 +0000    3530 promptflow-runtime INFO     Created instance_results.jsonl Artifact.\n",
      "2023-11-30 01:31:11 +0000    3530 promptflow-runtime INFO     Running <function RunHistoryClient.patch_run at 0x7fe5257d5f70>, 3 more tries to go.\n",
      "2023-11-30 01:31:11 +0000    3530 promptflow-runtime INFO     Patching 2023_11_29_192747_eval_run...\n",
      "2023-11-30 01:31:11 +0000    3530 promptflow-runtime INFO     Ending the aml run '2023_11_29_192747_eval_run' with status 'Completed'...\n",
      "2023-11-30 01:31:11 +0000     100 promptflow-runtime INFO     Process 3530 finished\n",
      "2023-11-30 01:31:11 +0000     100 promptflow-runtime INFO     [100] Child process finished!\n",
      "2023-11-30 01:31:11 +0000     100 promptflow-runtime INFO     [2023_11_29_192747_eval_run] End processing bulk run\n",
      "======= Run Summary =======\n",
      "Run name: \"2023_11_29_192747_eval_run\"\n",
      "Run status: \"Completed\"\n",
      "Start time: \"2023-11-30 01:30:49.063790+00:00\"\n",
      "Duration: \"0:00:22.267669\"\n",
      "Run url: \"https://ml.azure.com/prompts/flow/bulkrun/run/2023_11_29_192747_eval_run/details?wsid=/subscriptions/91d27443-f037-45d9-bb0c-428256992df6/resourceGroups/rg-contosooutdoors/providers/Microsoft.MachineLearningServices/workspaces/contoso-store\""
     ]
    },
    {
     "data": {
      "text/plain": [
       "<promptflow._sdk.entities._run.Run at 0x1ac4203aa60>"
      ]
     },
     "execution_count": 56,
     "metadata": {},
     "output_type": "execute_result"
    }
   ],
   "source": [
    "pf.stream(eval_run_variant)"
   ]
  },
  {
   "cell_type": "code",
   "execution_count": 57,
   "metadata": {},
   "outputs": [
    {
     "data": {
      "text/html": [
       "<div>\n",
       "<style scoped>\n",
       "    .dataframe tbody tr th:only-of-type {\n",
       "        vertical-align: middle;\n",
       "    }\n",
       "\n",
       "    .dataframe tbody tr th {\n",
       "        vertical-align: top;\n",
       "    }\n",
       "\n",
       "    .dataframe thead th {\n",
       "        text-align: right;\n",
       "    }\n",
       "</style>\n",
       "<table border=\"1\" class=\"dataframe\">\n",
       "  <thead>\n",
       "    <tr style=\"text-align: right;\">\n",
       "      <th></th>\n",
       "      <th>inputs.chat_history</th>\n",
       "      <th>inputs.customerId</th>\n",
       "      <th>inputs.question</th>\n",
       "      <th>inputs.context</th>\n",
       "      <th>inputs.answer</th>\n",
       "      <th>inputs.line_number</th>\n",
       "      <th>outputs.gpt_coherence</th>\n",
       "      <th>outputs.gpt_fluency</th>\n",
       "      <th>outputs.gpt_groundedness</th>\n",
       "      <th>outputs.gpt_relevance</th>\n",
       "    </tr>\n",
       "    <tr>\n",
       "      <th>outputs.line_number</th>\n",
       "      <th></th>\n",
       "      <th></th>\n",
       "      <th></th>\n",
       "      <th></th>\n",
       "      <th></th>\n",
       "      <th></th>\n",
       "      <th></th>\n",
       "      <th></th>\n",
       "      <th></th>\n",
       "      <th></th>\n",
       "    </tr>\n",
       "  </thead>\n",
       "  <tbody>\n",
       "    <tr>\n",
       "      <th>1</th>\n",
       "      <td>[]</td>\n",
       "      <td>1</td>\n",
       "      <td>Do you have any climbing gear?</td>\n",
       "      <td>[{'id': '3', 'title': 'Summit Breeze Jacket', ...</td>\n",
       "      <td>Hello John! As a Base member, you can gear up ...</td>\n",
       "      <td>1</td>\n",
       "      <td>5.0</td>\n",
       "      <td>5.0</td>\n",
       "      <td>1.0</td>\n",
       "      <td>2.0</td>\n",
       "    </tr>\n",
       "    <tr>\n",
       "      <th>3</th>\n",
       "      <td>[]</td>\n",
       "      <td>6</td>\n",
       "      <td>Do you have any hiking boots?</td>\n",
       "      <td>[{'id': '4', 'title': 'TrekReady Hiking Boots'...</td>\n",
       "      <td>Hi Emily! Yes, we have some great hiking boots...</td>\n",
       "      <td>3</td>\n",
       "      <td>5.0</td>\n",
       "      <td>5.0</td>\n",
       "      <td>5.0</td>\n",
       "      <td>2.0</td>\n",
       "    </tr>\n",
       "    <tr>\n",
       "      <th>4</th>\n",
       "      <td>[]</td>\n",
       "      <td>2</td>\n",
       "      <td>What gear do you recommend for hiking?</td>\n",
       "      <td>[{'id': '16', 'title': 'TrailLite Daypack', 'c...</td>\n",
       "      <td>Hi Jane Doe, great to hear from you! As a Gold...</td>\n",
       "      <td>4</td>\n",
       "      <td>2.0</td>\n",
       "      <td>5.0</td>\n",
       "      <td>5.0</td>\n",
       "      <td>5.0</td>\n",
       "    </tr>\n",
       "    <tr>\n",
       "      <th>2</th>\n",
       "      <td>[]</td>\n",
       "      <td>3</td>\n",
       "      <td>Can you tell me about your selection of tents?</td>\n",
       "      <td>[{'id': '8', 'title': 'Alpine Explorer Tent', ...</td>\n",
       "      <td>Hi Michael Johnson! As a Base member, you've g...</td>\n",
       "      <td>2</td>\n",
       "      <td>4.0</td>\n",
       "      <td>5.0</td>\n",
       "      <td>1.0</td>\n",
       "      <td>4.0</td>\n",
       "    </tr>\n",
       "    <tr>\n",
       "      <th>0</th>\n",
       "      <td>[]</td>\n",
       "      <td>4</td>\n",
       "      <td>tell me about your hiking jackets</td>\n",
       "      <td>[{'id': '3', 'title': 'Summit Breeze Jacket', ...</td>\n",
       "      <td>Hi Sarah Lee! 😊 We offer two fabulous hiking j...</td>\n",
       "      <td>0</td>\n",
       "      <td>5.0</td>\n",
       "      <td>5.0</td>\n",
       "      <td>5.0</td>\n",
       "      <td>5.0</td>\n",
       "    </tr>\n",
       "  </tbody>\n",
       "</table>\n",
       "</div>"
      ],
      "text/plain": [
       "                    inputs.chat_history  inputs.customerId  \\\n",
       "outputs.line_number                                          \n",
       "1                                    []                  1   \n",
       "3                                    []                  6   \n",
       "4                                    []                  2   \n",
       "2                                    []                  3   \n",
       "0                                    []                  4   \n",
       "\n",
       "                                                    inputs.question  \\\n",
       "outputs.line_number                                                   \n",
       "1                                    Do you have any climbing gear?   \n",
       "3                                     Do you have any hiking boots?   \n",
       "4                            What gear do you recommend for hiking?   \n",
       "2                    Can you tell me about your selection of tents?   \n",
       "0                                 tell me about your hiking jackets   \n",
       "\n",
       "                                                        inputs.context  \\\n",
       "outputs.line_number                                                      \n",
       "1                    [{'id': '3', 'title': 'Summit Breeze Jacket', ...   \n",
       "3                    [{'id': '4', 'title': 'TrekReady Hiking Boots'...   \n",
       "4                    [{'id': '16', 'title': 'TrailLite Daypack', 'c...   \n",
       "2                    [{'id': '8', 'title': 'Alpine Explorer Tent', ...   \n",
       "0                    [{'id': '3', 'title': 'Summit Breeze Jacket', ...   \n",
       "\n",
       "                                                         inputs.answer  \\\n",
       "outputs.line_number                                                      \n",
       "1                    Hello John! As a Base member, you can gear up ...   \n",
       "3                    Hi Emily! Yes, we have some great hiking boots...   \n",
       "4                    Hi Jane Doe, great to hear from you! As a Gold...   \n",
       "2                    Hi Michael Johnson! As a Base member, you've g...   \n",
       "0                    Hi Sarah Lee! 😊 We offer two fabulous hiking j...   \n",
       "\n",
       "                     inputs.line_number  outputs.gpt_coherence  \\\n",
       "outputs.line_number                                              \n",
       "1                                     1                    5.0   \n",
       "3                                     3                    5.0   \n",
       "4                                     4                    2.0   \n",
       "2                                     2                    4.0   \n",
       "0                                     0                    5.0   \n",
       "\n",
       "                     outputs.gpt_fluency  outputs.gpt_groundedness  \\\n",
       "outputs.line_number                                                  \n",
       "1                                    5.0                       1.0   \n",
       "3                                    5.0                       5.0   \n",
       "4                                    5.0                       5.0   \n",
       "2                                    5.0                       1.0   \n",
       "0                                    5.0                       5.0   \n",
       "\n",
       "                     outputs.gpt_relevance  \n",
       "outputs.line_number                         \n",
       "1                                      2.0  \n",
       "3                                      2.0  \n",
       "4                                      5.0  \n",
       "2                                      4.0  \n",
       "0                                      5.0  "
      ]
     },
     "execution_count": 57,
     "metadata": {},
     "output_type": "execute_result"
    }
   ],
   "source": [
    "details = pf.get_details(eval_run_variant)\n",
    "details.head(10)"
   ]
  },
  {
   "cell_type": "code",
   "execution_count": 58,
   "metadata": {},
   "outputs": [
    {
     "name": "stdout",
     "output_type": "stream",
     "text": [
      "{\n",
      "    \"gpt_coherence\": 4.2,\n",
      "    \"gpt_coherence_pass_rate(%)\": 80.0,\n",
      "    \"gpt_fluency\": 5.0,\n",
      "    \"gpt_fluency_pass_rate(%)\": 100.0,\n",
      "    \"gpt_relevance\": 3.6,\n",
      "    \"gpt_relevance_pass_rate(%)\": 60.0,\n",
      "    \"gpt_groundedness\": 3.4,\n",
      "    \"gpt_groundedness_pass_rate(%)\": 60.0\n",
      "}\n"
     ]
    }
   ],
   "source": [
    "\n",
    "metrics = pf.get_metrics(eval_run_variant)\n",
    "print(json.dumps(metrics, indent=4))"
   ]
  },
  {
   "cell_type": "code",
   "execution_count": 59,
   "metadata": {},
   "outputs": [
    {
     "name": "stdout",
     "output_type": "stream",
     "text": [
      "Web View: https://ml.azure.com/prompts/flow/bulkrun/runs/outputs?wsid=/subscriptions/91d27443-f037-45d9-bb0c-428256992df6/resourceGroups/rg-contosooutdoors/providers/Microsoft.MachineLearningServices/workspaces/contoso-store&runId=2023_11_29_192747_base_run,2023_11_29_192747_eval_run\n"
     ]
    }
   ],
   "source": [
    "pf.visualize([base_run, eval_run_variant])"
   ]
  },
  {
   "cell_type": "markdown",
   "metadata": {},
   "source": []
  },
  {
   "cell_type": "markdown",
   "metadata": {},
   "source": []
  }
 ],
 "metadata": {
  "kernelspec": {
   "display_name": ".venv",
   "language": "python",
   "name": "python3"
  },
  "language_info": {
   "codemirror_mode": {
    "name": "ipython",
    "version": 3
   },
   "file_extension": ".py",
   "mimetype": "text/x-python",
   "name": "python",
   "nbconvert_exporter": "python",
   "pygments_lexer": "ipython3",
   "version": "3.10.13"
  }
 },
 "nbformat": 4,
 "nbformat_minor": 2
}
